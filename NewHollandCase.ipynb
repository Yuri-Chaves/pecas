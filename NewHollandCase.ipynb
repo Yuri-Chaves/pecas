{
 "cells": [
  {
   "cell_type": "code",
   "execution_count": null,
   "id": "242d435d",
   "metadata": {},
   "outputs": [],
   "source": [
    "# Selenium\n",
    "from selenium import webdriver\n",
    "from selenium.webdriver.common.keys import Keys\n",
    "from selenium.webdriver.common.by import By\n",
    "from selenium.webdriver.support.wait import WebDriverWait\n",
    "from selenium.webdriver.support import expected_conditions as EC\n",
    "#Resolvendo problema do chromeDrive\n",
    "from selenium.webdriver.chrome.service import Service\n",
    "from webdriver_manager.chrome import ChromeDriverManager\n",
    "# Pandas\n",
    "import pandas as pd\n",
    "# RegEx / Regular Expressions\n",
    "import re\n",
    "# Operating system\n",
    "import os\n",
    "import time"
   ]
  },
  {
   "cell_type": "code",
   "execution_count": null,
   "id": "f1cff255",
   "metadata": {},
   "outputs": [],
   "source": [
    "case = 'https://loja.caseih.com.br/search?text='\n",
    "nh = 'https://loja.newhollandag.com.br/search?text='\n",
    "notFound = pd.DataFrame()\n",
    "notFound[\"Produto\"] = ''\n",
    "notFound['Motivo'] = ''\n",
    "cwd = os.getcwd()"
   ]
  },
  {
   "cell_type": "code",
   "execution_count": null,
   "id": "fbf2e37b",
   "metadata": {},
   "outputs": [],
   "source": [
    "query = pd.read_csv('produtos_bot_yury_not_vv.txt', encoding = 'latin1', sep=',')\n",
    "df_query = pd.DataFrame(query)\n",
    "df_query.drop('IDX', axis=1, inplace=True)"
   ]
  },
  {
   "cell_type": "code",
   "execution_count": null,
   "id": "cc644857",
   "metadata": {},
   "outputs": [],
   "source": [
    "def contains_number(string):\n",
    "    return any(char.isdigit() for char in string)"
   ]
  },
  {
   "cell_type": "code",
   "execution_count": null,
   "id": "eb7a1f8d",
   "metadata": {},
   "outputs": [],
   "source": [
    "def findOEM(text):\n",
    "    print(text)\n",
    "    oem = []\n",
    "    if 'VV' in text:\n",
    "        indice = text.find('VV')\n",
    "        text = text.replace(text[indice:], '')\n",
    "    if 'MCL' in text:\n",
    "        cod_mcl = text.find('MCL')\n",
    "        copy_text = text\n",
    "        text = text[:cod_mcl]\n",
    "        cod_mcl = copy_text[cod_mcl:]\n",
    "        cod_mcl = cod_mcl.replace(' ', '')\n",
    "        if contains_number(cod_mcl):\n",
    "            if len(cod_mcl) > 5:\n",
    "                oem.append(cod_mcl)\n",
    "    if not contains_number(text):\n",
    "        return oem\n",
    "    num = re.search(r'\\d+', text)\n",
    "    indice = text.find(num.group())\n",
    "    lastspace = text.rfind(' ', 0, indice)\n",
    "    remover = [text[:lastspace], '.', '-']\n",
    "    for rm in remover:\n",
    "        text = text.replace(rm, '')\n",
    "    text = text.replace(' ', '/')\n",
    "    text = text.split('/')\n",
    "    for txt in text:\n",
    "        if contains_number(txt):\n",
    "            if len(txt) > 5:\n",
    "                if not contains_number(txt[-1]):\n",
    "                    txt = txt.replace(txt[-1], '')\n",
    "                oem.append(txt)\n",
    "    return oem"
   ]
  },
  {
   "cell_type": "code",
   "execution_count": null,
   "id": "de6dc843",
   "metadata": {},
   "outputs": [],
   "source": [
    "def nh_case(nav, cod, index):\n",
    "    try:\n",
    "        btn = nav.find_element(By.CLASS_NAME, 'product-card')\n",
    "        link = btn.find_element(By.CLASS_NAME, 'stretched-link').get_attribute(\"href\")\n",
    "        nav.get(link)\n",
    "        nome = nav.find_element(By.CLASS_NAME, 'product-title__product-name').text\n",
    "#         nome = re.sub('[0-9]', '', nome)\n",
    "        codigo = nav.find_element(By.CLASS_NAME, 'product-code').text\n",
    "        elimg = nav.find_elements(By.CLASS_NAME, 'owl-carousel__images')\n",
    "        src = []\n",
    "        for img in elimg:\n",
    "            img = img.get_attribute('src')\n",
    "            if 'loja' not in img:\n",
    "                src.append(img)\n",
    "        print(len(src))\n",
    "        src = list(dict.fromkeys(src))\n",
    "        keys = []\n",
    "        values = []\n",
    "        for k in nav.find_elements(By.CLASS_NAME, 'product-specifications-item__title'):\n",
    "            keys.append(k.text)\n",
    "        for v in nav.find_elements(By.CLASS_NAME, 'product-specifications-item__value'):\n",
    "            values.append(v.text)\n",
    "        dict_infos = dict(zip(keys, values))\n",
    "        \n",
    "        print(nome)\n",
    "        print(codigo)\n",
    "        print(len(src))\n",
    "        for img in src:\n",
    "            print(img)\n",
    "        print(dict_infos)\n",
    "    except:\n",
    "        pass\n",
    "def nhCase(nav, cod, index):\n",
    "    try:\n",
    "        nav.get(str(nh + cod))\n",
    "        nh_case(nav, cod, index)       \n",
    "        nav.get(str(case + cod))\n",
    "        nh_case(nav, cod, index)\n",
    "    except:\n",
    "        pass"
   ]
  },
  {
   "cell_type": "code",
   "execution_count": null,
   "id": "59682f02",
   "metadata": {},
   "outputs": [],
   "source": [
    "chrome_options = webdriver.ChromeOptions()\n",
    "servico = Service(ChromeDriverManager().install())\n",
    "#chrome_options.add_argument('headless')\n",
    "nav = webdriver.Chrome(options=chrome_options, service=servico)"
   ]
  },
  {
   "cell_type": "code",
   "execution_count": null,
   "id": "9cd5c49b",
   "metadata": {},
   "outputs": [],
   "source": [
    "produtos = dict(zip(df_query['ET0100_PRODUTO'], df_query['ET0100_NOME']))\n",
    "for ID, cod in produtos.items():\n",
    "    cods = findOEM(cod)\n",
    "    for item in cods:\n",
    "        nhCase(nav, item, ID)"
   ]
  },
  {
   "cell_type": "code",
   "execution_count": null,
   "id": "4c3d7272",
   "metadata": {},
   "outputs": [],
   "source": [
    "nhCase(nav,'84257511', '1')"
   ]
  },
  {
   "cell_type": "code",
   "execution_count": null,
   "id": "291bef13",
   "metadata": {},
   "outputs": [],
   "source": [
    "display(notFound)"
   ]
  },
  {
   "cell_type": "code",
   "execution_count": null,
   "id": "d9ff8a4e",
   "metadata": {},
   "outputs": [],
   "source": [
    "notFound.to_excel(f'{cwd}/Commersul/notFound.xlsx')"
   ]
  }
 ],
 "metadata": {
  "kernelspec": {
   "display_name": "Python 3 (ipykernel)",
   "language": "python",
   "name": "python3"
  },
  "language_info": {
   "codemirror_mode": {
    "name": "ipython",
    "version": 3
   },
   "file_extension": ".py",
   "mimetype": "text/x-python",
   "name": "python",
   "nbconvert_exporter": "python",
   "pygments_lexer": "ipython3",
   "version": "3.9.13"
  }
 },
 "nbformat": 4,
 "nbformat_minor": 5
}
