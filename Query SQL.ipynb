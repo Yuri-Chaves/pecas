{
 "cells": [
  {
   "cell_type": "code",
   "execution_count": 1,
   "id": "a4be3281",
   "metadata": {},
   "outputs": [],
   "source": [
    "from __future__ import division\n",
    "import pyodbc, sys, socket"
   ]
  },
  {
   "cell_type": "code",
   "execution_count": 2,
   "id": "63ec43be",
   "metadata": {},
   "outputs": [
    {
     "name": "stderr",
     "output_type": "stream",
     "text": [
      "IOPub data rate exceeded.\n",
      "The notebook server will temporarily stop sending output\n",
      "to the client in order to avoid crashing it.\n",
      "To change this limit, set the config variable\n",
      "`--NotebookApp.iopub_data_rate_limit`.\n",
      "\n",
      "Current values:\n",
      "NotebookApp.iopub_data_rate_limit=1000000.0 (bytes/sec)\n",
      "NotebookApp.rate_limit_window=3.0 (secs)\n",
      "\n"
     ]
    }
   ],
   "source": [
    "arg=socket.gethostname()\n",
    "cnxn = pyodbc.connect('DRIVER={DBMAKER};SERVER=' + arg + ';DATABASE=COTRIPALDB_SIMPLUS_BASE;UID=SYSADM;PWD=')\n",
    "cursor = cnxn.cursor()\n",
    "# sql=(\"select RAND() as IDX, a.gtin , a.codigo_cotripal, cast(a.descricao as varchar(250)) as nome, a.id_erp_departamento, a.id_erp_setor, a.id_erp_item from produto as a where a.id_erp_departamento = 018 ORDER BY IDX limit 100;\")\n",
    "sql=(\"select a.gtin , a.codigo_cotripal, cast(a.descricao as varchar(250)) as nome, a.id_erp_departamento, a.id_erp_setor, a.id_erp_item from produto as a where a.id_erp_departamento = 018 and a.descricao like '%VV%' ORDER BY IDX;\")\n",
    "\n",
    "\n",
    "cursor.execute(sql)\n",
    "\n",
    "rows = cursor.fetchall()\n",
    "for row in rows:\n",
    "    print(row)\n",
    "\n",
    "cursor.close()"
   ]
  },
  {
   "cell_type": "code",
   "execution_count": 3,
   "id": "463ff282",
   "metadata": {
    "scrolled": true
   },
   "outputs": [
    {
     "name": "stdout",
     "output_type": "stream",
     "text": [
      "427\n"
     ]
    }
   ],
   "source": [
    "print(len(rows))"
   ]
  },
  {
   "cell_type": "code",
   "execution_count": 14,
   "id": "a3193263",
   "metadata": {},
   "outputs": [
    {
     "name": "stdout",
     "output_type": "stream",
     "text": [
      "7895985027769\n",
      "102119082\n",
      "BARRA CORTE 22 PES DQ-65774-VV-6044-00\n",
      "18\n",
      "184\n",
      "1206\n"
     ]
    }
   ],
   "source": [
    "teste = rows[201]\n",
    "print(teste[0])\n",
    "print(teste[1])\n",
    "print(teste[2])\n",
    "print(teste[3])\n",
    "print(teste[4])\n",
    "print(teste[5])"
   ]
  },
  {
   "cell_type": "code",
   "execution_count": 12,
   "id": "d71fece2",
   "metadata": {},
   "outputs": [],
   "source": [
    "def findVVCod(nome):\n",
    "    indice = nome.find('VV')\n",
    "    nome = nome[indice:]\n",
    "    nome = nome.replace(' ', '/')\n",
    "    nome = nome.split('/')\n",
    "    cods = []\n",
    "    for cod in nome:\n",
    "        if 'VV-' in cod:\n",
    "            cod = cod.replace('VV-', '')\n",
    "            cod = re.sub('[A-Z]', '', cod)\n",
    "            cods.append(cod)\n",
    "    return cods"
   ]
  },
  {
   "cell_type": "code",
   "execution_count": 8,
   "id": "4401b6c5",
   "metadata": {},
   "outputs": [],
   "source": [
    "\n",
    "import re\n",
    "from re import sub"
   ]
  },
  {
   "cell_type": "code",
   "execution_count": 15,
   "id": "83fe9e0b",
   "metadata": {},
   "outputs": [
    {
     "name": "stdout",
     "output_type": "stream",
     "text": [
      "['6044-00']\n"
     ]
    }
   ],
   "source": [
    "print(findVVCod(teste[2]))"
   ]
  },
  {
   "cell_type": "code",
   "execution_count": null,
   "id": "9b7c15d0",
   "metadata": {},
   "outputs": [],
   "source": []
  },
  {
   "cell_type": "code",
   "execution_count": null,
   "id": "7b3151f9",
   "metadata": {},
   "outputs": [],
   "source": []
  }
 ],
 "metadata": {
  "kernelspec": {
   "display_name": "Python 3 (ipykernel)",
   "language": "python",
   "name": "python3"
  },
  "language_info": {
   "codemirror_mode": {
    "name": "ipython",
    "version": 3
   },
   "file_extension": ".py",
   "mimetype": "text/x-python",
   "name": "python",
   "nbconvert_exporter": "python",
   "pygments_lexer": "ipython3",
   "version": "3.9.13"
  }
 },
 "nbformat": 4,
 "nbformat_minor": 5
}
