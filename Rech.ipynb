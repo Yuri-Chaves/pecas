{
 "cells": [
  {
   "cell_type": "code",
   "execution_count": 1,
   "id": "23ee3823",
   "metadata": {},
   "outputs": [],
   "source": [
    "# Selenium\n",
    "import selenium\n",
    "from selenium import webdriver\n",
    "from selenium.webdriver.common.keys import Keys\n",
    "from selenium.webdriver.common.by import By\n",
    "from selenium.webdriver.support.wait import WebDriverWait\n",
    "from selenium.webdriver.support import expected_conditions as EC\n",
    "#Resolvendo problema do chromeDrive\n",
    "from selenium.webdriver.chrome.service import Service\n",
    "from webdriver_manager.chrome import ChromeDriverManager\n",
    "# Pandas\n",
    "import pandas as pd\n",
    "# RegEx / Regular Expressions\n",
    "import re\n",
    "# Operating system\n",
    "import os\n",
    "import time"
   ]
  },
  {
   "cell_type": "code",
   "execution_count": 2,
   "id": "c0264006",
   "metadata": {},
   "outputs": [],
   "source": [
    "rech = 'https://rech.com/busca?q='\n",
    "notFound = pd.DataFrame()\n",
    "notFound[\"Produto\"] = ''\n",
    "notFound['Motivo'] = ''\n",
    "cwd = os.getcwd()\n",
    "df_query = pd.DataFrame(pd.read_csv('produtos_bot_yury_not_vv.txt', encoding = 'latin1', sep=','))\n",
    "df_query.drop('IDX', axis=1, inplace=True)\n",
    "global comma\n",
    "comma = False"
   ]
  },
  {
   "cell_type": "code",
   "execution_count": 3,
   "id": "2a40c76c",
   "metadata": {},
   "outputs": [],
   "source": [
    "def contains_number(string):\n",
    "    return any(char.isdigit() for char in string)"
   ]
  },
  {
   "cell_type": "code",
   "execution_count": 4,
   "id": "e646f3d7",
   "metadata": {},
   "outputs": [],
   "source": [
    "def findOEM(text):\n",
    "    oem = []\n",
    "    if 'VV' in text:\n",
    "        indice = text.find('VV')\n",
    "        text = text.replace(text[indice:], '')\n",
    "    if 'MCL' in text:\n",
    "        cod_mcl = text.find('MCL')\n",
    "        copy_text = text\n",
    "        text = text[:cod_mcl]\n",
    "        cod_mcl = copy_text[cod_mcl:]\n",
    "        cod_mcl = cod_mcl.replace(' ', '')\n",
    "        if contains_number(cod_mcl):\n",
    "            if len(cod_mcl) > 5:\n",
    "                oem.append(cod_mcl)\n",
    "    if not contains_number(text):\n",
    "        return oem\n",
    "    num = re.search(r'\\d+', text)\n",
    "    indice = text.find(num.group())\n",
    "    lastspace = text.rfind(' ', 0, indice)\n",
    "    remover = [text[:lastspace], '-', 'MM', '.']\n",
    "    for rm in remover:\n",
    "        text = text.replace(rm, '')\n",
    "    text = text.replace(' ', '/')\n",
    "    text = text.split('/')\n",
    "    for txt in text:\n",
    "        if contains_number(txt):\n",
    "            if len(txt) > 5:\n",
    "                if not contains_number(txt[-1]):\n",
    "                    txt = txt.replace(txt[-1], '')\n",
    "                oem.append(txt)\n",
    "    return oem"
   ]
  },
  {
   "cell_type": "code",
   "execution_count": 5,
   "id": "84f70e07",
   "metadata": {},
   "outputs": [],
   "source": [
    "def changeComma():\n",
    "    global comma\n",
    "    comma = True"
   ]
  },
  {
   "cell_type": "code",
   "execution_count": 6,
   "id": "5ce55f64",
   "metadata": {},
   "outputs": [],
   "source": [
    "def rechSearch(cod, index):\n",
    "    nav.get(str(rech + cod))\n",
    "    elemento = nav.find_element(By.ID, 'showcase')\n",
    "    elementos = elemento.find_elements(By.CLASS_NAME, 'y-item-wrapper-showcase')\n",
    "    urls = []\n",
    "    for elemento in elementos:\n",
    "        url = elemento.find_element(By.TAG_NAME, 'link').get_attribute('href')\n",
    "        urls.append(url)\n",
    "    time.sleep(2)\n",
    "    for url in urls:\n",
    "        src = []\n",
    "        keys = []\n",
    "        values = []\n",
    "        nav.get(str(url))\n",
    "        nav.implicitly_wait(0.8)\n",
    "        if not cod in nav.find_element(By.CLASS_NAME, 'product__partcode').text:\n",
    "            continue\n",
    "        elementos = nav.find_elements(By.CLASS_NAME, 'zoomImg')\n",
    "        for elemento in elementos:\n",
    "            src.append(elemento.get_attribute('src'))\n",
    "        keys.append('Nome:')\n",
    "        values.append(nav.find_element(By.CLASS_NAME, 'product__name').text)\n",
    "        keys.append('Descrição:')\n",
    "        values.append(nav.find_element(By.CLASS_NAME, 'panel-description').text)\n",
    "        elemento = nav.find_element(By.CLASS_NAME, 'table-specifications')\n",
    "        elementos = elemento.find_elements(By.CSS_SELECTOR, '.product .product-details table tr th')\n",
    "        for k in elementos:\n",
    "            keys.append(k.text)\n",
    "        elementos = elemento.find_elements(By.CSS_SELECTOR, '.product .product-details table tr td')\n",
    "        for v in elementos:\n",
    "            values.append(v.text)\n",
    "        keys.append('URL: ')\n",
    "        values.append(url)\n",
    "        dict_infos = dict(zip(keys, values))\n",
    "        for x in dict_infos.keys():\n",
    "            y = dict_infos.get(x)\n",
    "            y = y.replace('\\n', ', ')\n",
    "            dict_infos.update({x : y})\n",
    "        try:\n",
    "            temp = dict_infos['Aplicação Equipamentos'].split(' (')\n",
    "            equips = []\n",
    "            for item in temp:\n",
    "                while '9' in item:\n",
    "                    item = item.replace('9', '')\n",
    "                item = item.replace('1 ATÉ )', '')\n",
    "                item = item.replace('-', '')\n",
    "                item = item.replace(', VER MAIS', '')\n",
    "                item = item.strip()\n",
    "                if item:\n",
    "                    item = item.strip()\n",
    "                    equips.append(item)\n",
    "            dict_infos.update({'Aplicação Equipamentos': equips})\n",
    "        except Exception as e:\n",
    "            pass\n",
    "        try:\n",
    "            temp = dict_infos['Código da Montadora'].split(',')\n",
    "            cods = []\n",
    "            for item in temp:\n",
    "                cods.append(item.strip())\n",
    "            dict_infos.update({'Código da Montadora': cods})\n",
    "        except Exception as e:\n",
    "            pass\n",
    "        images = {str(index) : src}\n",
    "        dict_infos = {str(index) : dict_infos}\n",
    "        dict_infos = str(dict_infos)\n",
    "        dict_infos = dict_infos.replace('\"', '\\\\\"')\n",
    "        dict_infos = dict_infos.replace(\"'\", '\"')\n",
    "        images = str(images)\n",
    "        images = images.replace(\"'\", '\"')\n",
    "        with open(f'{cwd}/Rech/prods.json', 'a') as arq:\n",
    "            if comma:\n",
    "                arq.write(',')\n",
    "            arq.write(dict_infos)\n",
    "        with open(f'{cwd}/Rech/images.json', 'a') as arq:\n",
    "            if comma:\n",
    "                arq.write(',')\n",
    "            arq.write(images)\n",
    "        changeComma()"
   ]
  },
  {
   "cell_type": "code",
   "execution_count": 7,
   "id": "f2c78b06",
   "metadata": {},
   "outputs": [],
   "source": [
    "def loginRech():\n",
    "    nav.get('https://www.rech.com/login?targetUri=%2F')\n",
    "    elemento = nav.find_element(By.ID, 'username')\n",
    "    elemento.send_keys('yuri@cotripal.com.br')\n",
    "    elemento = nav.find_element(By.ID, 'password')\n",
    "    elemento.send_keys('Testes1!')\n",
    "    elemento = nav.find_element(By.ID, 'submit')\n",
    "    elemento.click()\n",
    "    nav.implicitly_wait(0.8)"
   ]
  },
  {
   "cell_type": "code",
   "execution_count": 8,
   "id": "196c5bb5",
   "metadata": {},
   "outputs": [],
   "source": [
    "chrome_options = webdriver.ChromeOptions()\n",
    "servico = Service(ChromeDriverManager().install())\n",
    "#chrome_options.add_argument('headless')\n",
    "nav = webdriver.Chrome(options=chrome_options, service=servico)\n",
    "loginRech()"
   ]
  },
  {
   "cell_type": "markdown",
   "id": "75b881a1",
   "metadata": {},
   "source": [
    "# rechSearch(nav, '87041572', 1)\n",
    "#https://rech.com/busca?q=R110126/187"
   ]
  },
  {
   "cell_type": "markdown",
   "id": "0c76643c",
   "metadata": {},
   "source": [
    "# rechSearch(nav, 'R110126/187', 1)"
   ]
  },
  {
   "cell_type": "code",
   "execution_count": 9,
   "id": "b078931f",
   "metadata": {},
   "outputs": [],
   "source": [
    "time.sleep(1)\n",
    "produtos = dict(zip(df_query['ET0100_PRODUTO'], df_query['ET0100_NOME']))\n",
    "with open(f'{cwd}/Rech/prods.json', 'a') as arq:\n",
    "    arq.write('[')\n",
    "with open(f'{cwd}/Rech/images.json', 'a') as arq:\n",
    "    arq.write('[')\n",
    "for ID, cod in produtos.items():\n",
    "    cods = findOEM(cod)\n",
    "    for item in cods:\n",
    "        if len(item) > 5:\n",
    "            try:\n",
    "                rechSearch(item, ID)\n",
    "            except Exception as e:\n",
    "                notFound.loc[len(notFound)] = [ID, 'Não encontrado no site']\n",
    "                if type(e) != selenium.common.exceptions.NoSuchElementException:\n",
    "                    print(type(e))\n",
    "                    print(e)\n",
    "        else:\n",
    "            notFound.loc[len(notFound)] = [item, 'possível OEM muito curto']\n",
    "with open(f'{cwd}/Rech/prods.json', 'a') as arq:\n",
    "    arq.write(']')\n",
    "with open(f'{cwd}/Rech/images.json', 'a') as arq:\n",
    "    arq.write(']')"
   ]
  },
  {
   "cell_type": "markdown",
   "id": "b01966d8",
   "metadata": {},
   "source": [
    "for ID, cod in produtos.items():\n",
    "    cods = findOEM(cod)\n",
    "    print(f\"COD : {ID} ==> NOME : {cod} ==> OEM'S : {cods}\")"
   ]
  },
  {
   "cell_type": "code",
   "execution_count": 10,
   "id": "2d1a5ccc",
   "metadata": {},
   "outputs": [],
   "source": [
    "notFound = notFound.drop_duplicates()\n",
    "notFound.to_excel(f'{cwd}/Rech/notFound.xlsx')"
   ]
  }
 ],
 "metadata": {
  "kernelspec": {
   "display_name": "Python 3 (ipykernel)",
   "language": "python",
   "name": "python3"
  },
  "language_info": {
   "codemirror_mode": {
    "name": "ipython",
    "version": 3
   },
   "file_extension": ".py",
   "mimetype": "text/x-python",
   "name": "python",
   "nbconvert_exporter": "python",
   "pygments_lexer": "ipython3",
   "version": "3.9.13"
  }
 },
 "nbformat": 4,
 "nbformat_minor": 5
}
