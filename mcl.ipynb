{
 "cells": [
  {
   "cell_type": "code",
   "execution_count": null,
   "id": "91466514",
   "metadata": {},
   "outputs": [],
   "source": [
    "# Selenium\n",
    "from selenium import webdriver\n",
    "from selenium.webdriver.common.keys import Keys\n",
    "from selenium.webdriver.common.by import By\n",
    "from selenium.webdriver.support.wait import WebDriverWait\n",
    "from selenium.webdriver.support import expected_conditions as EC\n",
    "#Resolvendo problema do chromeDrive\n",
    "from selenium.webdriver.chrome.service import Service\n",
    "from webdriver_manager.chrome import ChromeDriverManager\n",
    "# Pandas\n",
    "import pandas as pd\n",
    "# RegEx / Regular Expressions\n",
    "import re"
   ]
  },
  {
   "cell_type": "code",
   "execution_count": null,
   "id": "2d78e7bf",
   "metadata": {},
   "outputs": [],
   "source": [
    "chrome_options = webdriver.ChromeOptions()\n",
    "servico = Service(ChromeDriverManager().install())\n",
    "#chrome_options.add_argument('headless')\n",
    "nav = webdriver.Chrome(options=chrome_options, service=servico)\n",
    "nav.get('https://mcl.ind.br/produtos')"
   ]
  },
  {
   "cell_type": "code",
   "execution_count": null,
   "id": "538ab314",
   "metadata": {},
   "outputs": [],
   "source": [
    "def searchByProduct(nav, cod, index):\n",
    "    try:\n",
    "        nav.implicitly_wait(2.8)    \n",
    "        element = nav.find_element(By.CLASS_NAME, 'product')\n",
    "        element = element.find_element(By.CLASS_NAME, 'product-image')\n",
    "        element = element.find_element(By.TAG_NAME, 'a')\n",
    "        nav.get(str(element.get_attribute('href')))\n",
    "        element = nav.find_element(By.ID, 'earpods-case-black')\n",
    "        image = element.find_element(By.TAG_NAME, 'img').get_attribute('src')\n",
    "        print(image)\n",
    "        nome = nav.find_element(By.XPATH, '//*[@id=\"content\"]/div/div[2]/div/p[2]/span[1]').text\n",
    "        codigo = nav.find_element(By.XPATH, '//*[@id=\"content\"]/div/div[2]/div/span[8]').text\n",
    "        dict_infos = {\n",
    "            nav.find_element(By.XPATH, '//*[@id=\"content\"]/div/div[2]/div/span[1]').text : nav.find_element(By.XPATH, '//*[@id=\"content\"]/div/div[2]/div/span[2]').text,\n",
    "            nav.find_element(By.XPATH, '//*[@id=\"content\"]/div/div[2]/div/span[3]').text : nav.find_element(By.XPATH, '//*[@id=\"content\"]/div/div[2]/div/font/span').text,\n",
    "            nav.find_element(By.XPATH, '//*[@id=\"content\"]/div/div[2]/div/span[4]').text : nav.find_element(By.XPATH, '//*[@id=\"content\"]/div/div[2]/div/span[5]').text,\n",
    "            nav.find_element(By.XPATH, '//*[@id=\"content\"]/div/div[2]/div/span[6]').text : nav.find_element(By.XPATH, '//*[@id=\"content\"]/div/div[2]/div/span[8]').text,\n",
    "            nav.find_element(By.XPATH, '//*[@id=\"content\"]/div/div[2]/div/span[9]').text : nav.find_element(By.XPATH, '//*[@id=\"content\"]/div/div[2]/div/span[10]').text,\n",
    "            'Unidade de Medida' : nav.find_element(By.XPATH, '//*[@id=\"content\"]/div/div[2]/div/span[13]').text\n",
    "        }\n",
    "        print(codigo)\n",
    "        print(nome)\n",
    "        print(dict_infos)\n",
    "    except Exception as e:\n",
    "        print(f'produto {cod} não encontrado')\n",
    "        print(e)\n",
    "        return"
   ]
  },
  {
   "cell_type": "code",
   "execution_count": null,
   "id": "22545689",
   "metadata": {},
   "outputs": [],
   "source": [
    "def searchMcl(nav, cod, index):\n",
    "    element = nav.find_element(By.CLASS_NAME, 'search-box-btn')\n",
    "    element.click()\n",
    "    nav.implicitly_wait(0.8)\n",
    "    element = nav.find_element(By.NAME, 'inputSearchPro')\n",
    "    element.click()\n",
    "    element.send_keys(str(cod))\n",
    "    element.send_keys(Keys.ENTER)\n",
    "    searchByProduct(nav, cod, index)"
   ]
  },
  {
   "cell_type": "code",
   "execution_count": null,
   "id": "62a8aad2",
   "metadata": {
    "scrolled": true
   },
   "outputs": [],
   "source": [
    "searchMcl(nav, 84320558, 1)"
   ]
  },
  {
   "cell_type": "code",
   "execution_count": null,
   "id": "b56dbe20",
   "metadata": {
    "scrolled": true
   },
   "outputs": [],
   "source": [
    "searchMcl(nav, 500366000, 1)"
   ]
  }
 ],
 "metadata": {
  "kernelspec": {
   "display_name": "Python 3 (ipykernel)",
   "language": "python",
   "name": "python3"
  },
  "language_info": {
   "codemirror_mode": {
    "name": "ipython",
    "version": 3
   },
   "file_extension": ".py",
   "mimetype": "text/x-python",
   "name": "python",
   "nbconvert_exporter": "python",
   "pygments_lexer": "ipython3",
   "version": "3.9.13"
  }
 },
 "nbformat": 4,
 "nbformat_minor": 5
}
