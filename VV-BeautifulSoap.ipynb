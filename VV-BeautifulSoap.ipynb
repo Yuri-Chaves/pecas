{
 "cells": [
  {
   "cell_type": "code",
   "execution_count": null,
   "id": "495f809e",
   "metadata": {},
   "outputs": [],
   "source": [
    "# Query \n",
    "from __future__ import division\n",
    "import pyodbc, sys, socket\n",
    "# Web Scrappnig\n",
    "import requests\n",
    "from bs4 import BeautifulSoup\n",
    "# RegEx / Regular Expressions\n",
    "import re\n",
    "from re import sub\n",
    "#  Json\n",
    "import json"
   ]
  },
  {
   "cell_type": "code",
   "execution_count": null,
   "id": "fac12347",
   "metadata": {},
   "outputs": [],
   "source": [
    "arg=socket.gethostname()\n",
    "cnxn = pyodbc.connect('DRIVER={DBMAKER};SERVER=' + arg + ';DATABASE=COTRIPALDB_SIMPLUS_BASE;UID=SYSADM;PWD=')\n",
    "cursor = cnxn.cursor()\n",
    "\n",
    "sql=(\"select a.gtin , a.codigo_cotripal, cast(a.descricao as varchar(250)) as nome, a.id_erp_departamento, a.id_erp_setor, a.id_erp_item from produto as a where a.id_erp_departamento = 018 and a.descricao like '%VV%' ORDER BY IDX;\")\n",
    "\n",
    "\n",
    "cursor.execute(sql)\n",
    "\n",
    "rows = cursor.fetchall()\n",
    "\n",
    "cursor.close()"
   ]
  },
  {
   "cell_type": "code",
   "execution_count": null,
   "id": "594299d3",
   "metadata": {},
   "outputs": [],
   "source": [
    "headers = {\n",
    "    \"User-Agent\" : \"Mozilla/5.0 (X11; Linux x86_64) AppleWebKit/537.36 (KHTML, like Gecko) Chrome/106.0.0.0 Safari/537.36\"\n",
    "}\n",
    "global url\n",
    "url = 'https://www.vv.com.br/pt/produto/detalhe/'\n",
    "global infos\n",
    "infos = []"
   ]
  },
  {
   "cell_type": "code",
   "execution_count": null,
   "id": "3f09b968",
   "metadata": {},
   "outputs": [],
   "source": [
    "def findVVCod(nome):\n",
    "    indice = nome.find('VV')\n",
    "    nome = nome[indice:]\n",
    "    nome = nome.replace(' ', '/')\n",
    "    nome = nome.split('/')\n",
    "    cods = []\n",
    "    for cod in nome:\n",
    "        if 'VV-' in cod:\n",
    "            cod = cod.replace('VV-', '')\n",
    "            cod = re.sub('[A-Z]', '', cod)\n",
    "            cods.append(cod)\n",
    "    return cods"
   ]
  },
  {
   "cell_type": "code",
   "execution_count": null,
   "id": "fa96a617",
   "metadata": {},
   "outputs": [],
   "source": [
    "def search(row):\n",
    "    cod = str(findVVCod(row[2])[0])\n",
    "    if not '-' in cod:\n",
    "        print(cod)\n",
    "        print('não foi')\n",
    "        return\n",
    "    link = str(url + cod)\n",
    "    req = requests.get(link, headers=headers)\n",
    "    if req.status_code != 200:\n",
    "        print(req.status_code)\n",
    "        return\n",
    "    site = BeautifulSoup(req.text, \"html.parser\")\n",
    "    equipamentos = site.find(\"ul\", class_=\"listarEquipamentos\")\n",
    "    if not equipamentos:\n",
    "        print('Não encontrado')\n",
    "        return\n",
    "    equipamentosList = []\n",
    "    for li in equipamentos.contents:\n",
    "        if len(li) > 1:\n",
    "            keys = []\n",
    "            values = []\n",
    "            for el in li.find_all(\"h3\"):\n",
    "                keys.append(el.get_text())\n",
    "            for el in li.find_all(\"p\"):\n",
    "                values.append(el.get_text())\n",
    "            try:\n",
    "                equipamentosList.append({ keys[0] : values[0], keys[1] : values[1], keys[2] : values[2:] })\n",
    "            except:\n",
    "                equipamentosList.append({ keys[0] : values[0], keys[1] : values[1] })\n",
    "    urlImagens = []\n",
    "    imagens = site.find(\"ul\", class_=\"listaGaleria\")\n",
    "    imagens = imagens.find_all(\"img\")\n",
    "    for img in imagens:\n",
    "        urlImagens.append(\"https://www.vv.com.br/\" + img[\"src\"])\n",
    "    nome = site.find(\"div\", class_=\"subtitulo\")\n",
    "    nome = nome.find(\"h2\").get_text()\n",
    "    descricao = site.find(\"div\", class_=\"descricao\")\n",
    "    descricao = descricao.find(\"ul\")\n",
    "    descricao_keys = []\n",
    "    descricao_values =[]\n",
    "    for li in descricao.contents:\n",
    "        if len(li) > 1:\n",
    "            for el in li.find_all(\"h3\"):\n",
    "                descricao_keys.append(el.get_text())\n",
    "            for el in li.find_all(\"p\"):\n",
    "                descricao_values.append(el.get_text())\n",
    "\n",
    "    itemInfo = {\n",
    "        \"gtin\" : row[0],\n",
    "        \"codigo_cotripal\" : row[1],\n",
    "        \"id_erp_departamento\" : row[3],\n",
    "        \"id_erp_setor\" : row[4],\n",
    "        \"id_erp_item\" : row[5],\n",
    "        \"nome\" : nome,\n",
    "        \"imagens\" : urlImagens\n",
    "    }\n",
    "    for i, key in enumerate(descricao_keys):\n",
    "        itemInfo.update({key : descricao_values[i]})\n",
    "    itemInfo.update({\"Equipamentos\":equipamentosList})\n",
    "    infos.append(itemInfo)"
   ]
  },
  {
   "cell_type": "code",
   "execution_count": null,
   "id": "21b59b1f",
   "metadata": {},
   "outputs": [],
   "source": [
    "for row in rows:\n",
    "    search(row)"
   ]
  },
  {
   "cell_type": "code",
   "execution_count": null,
   "id": "8764207a",
   "metadata": {},
   "outputs": [],
   "source": [
    "print(json.dumps(infos, ensure_ascii=False))"
   ]
  }
 ],
 "metadata": {
  "kernelspec": {
   "display_name": "Python 3 (ipykernel)",
   "language": "python",
   "name": "python3"
  },
  "language_info": {
   "codemirror_mode": {
    "name": "ipython",
    "version": 3
   },
   "file_extension": ".py",
   "mimetype": "text/x-python",
   "name": "python",
   "nbconvert_exporter": "python",
   "pygments_lexer": "ipython3",
   "version": "3.9.13"
  }
 },
 "nbformat": 4,
 "nbformat_minor": 5
}
