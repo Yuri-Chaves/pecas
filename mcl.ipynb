{
 "cells": [
  {
   "cell_type": "code",
   "execution_count": 1,
   "id": "91466514",
   "metadata": {},
   "outputs": [],
   "source": [
    "# Selenium\n",
    "from selenium import webdriver\n",
    "from selenium.webdriver.common.keys import Keys\n",
    "from selenium.webdriver.common.by import By\n",
    "from selenium.webdriver.support.wait import WebDriverWait\n",
    "from selenium.webdriver.support import expected_conditions as EC\n",
    "#Resolvendo problema do chromeDrive\n",
    "from selenium.webdriver.chrome.service import Service\n",
    "from webdriver_manager.chrome import ChromeDriverManager\n",
    "# Pandas\n",
    "import pandas as pd\n",
    "# RegEx / Regular Expressions\n",
    "import re"
   ]
  },
  {
   "cell_type": "code",
   "execution_count": 2,
   "id": "2d78e7bf",
   "metadata": {},
   "outputs": [],
   "source": [
    "chrome_options = webdriver.ChromeOptions()\n",
    "servico = Service(ChromeDriverManager().install())\n",
    "#chrome_options.add_argument('headless')\n",
    "nav = webdriver.Chrome(options=chrome_options, service=servico)\n",
    "nav.get('https://mcl.ind.br/produtos')"
   ]
  },
  {
   "cell_type": "code",
   "execution_count": 3,
   "id": "538ab314",
   "metadata": {},
   "outputs": [],
   "source": [
    "def searchByProduct(nav, cod, index):\n",
    "    try:\n",
    "        nav.implicitly_wait(2.8)    \n",
    "        element = nav.find_element(By.CLASS_NAME, 'product')\n",
    "        element = element.find_element(By.CLASS_NAME, 'product-image')\n",
    "        element = element.find_element(By.TAG_NAME, 'a')\n",
    "        nav.get(str(element.get_attribute('href')))\n",
    "        element = nav.find_element(By.ID, 'earpods-case-black')\n",
    "        image = element.find_element(By.TAG_NAME, 'img').get_attribute('src')\n",
    "        print(image)\n",
    "        nome = nav.find_element(By.XPATH, '//*[@id=\"content\"]/div/div[2]/div/p[2]/span[1]').text\n",
    "        codigo = nav.find_element(By.XPATH, '//*[@id=\"content\"]/div/div[2]/div/span[8]').text\n",
    "        dict_infos = {\n",
    "            nav.find_element(By.XPATH, '//*[@id=\"content\"]/div/div[2]/div/span[1]').text : nav.find_element(By.XPATH, '//*[@id=\"content\"]/div/div[2]/div/span[2]').text,\n",
    "            nav.find_element(By.XPATH, '//*[@id=\"content\"]/div/div[2]/div/span[3]').text : nav.find_element(By.XPATH, '//*[@id=\"content\"]/div/div[2]/div/font/span').text,\n",
    "            nav.find_element(By.XPATH, '//*[@id=\"content\"]/div/div[2]/div/span[4]').text : nav.find_element(By.XPATH, '//*[@id=\"content\"]/div/div[2]/div/span[5]').text,\n",
    "            nav.find_element(By.XPATH, '//*[@id=\"content\"]/div/div[2]/div/span[6]').text : nav.find_element(By.XPATH, '//*[@id=\"content\"]/div/div[2]/div/span[8]').text,\n",
    "            nav.find_element(By.XPATH, '//*[@id=\"content\"]/div/div[2]/div/span[9]').text : nav.find_element(By.XPATH, '//*[@id=\"content\"]/div/div[2]/div/span[10]').text,\n",
    "            'Unidade de Medida' : nav.find_element(By.XPATH, '//*[@id=\"content\"]/div/div[2]/div/span[13]').text\n",
    "        }\n",
    "        print(codigo)\n",
    "        print(nome)\n",
    "        print(dict_infos)\n",
    "    except Exception as e:\n",
    "        print(f'produto {cod} não encontrado')\n",
    "        print(e)\n",
    "        return"
   ]
  },
  {
   "cell_type": "code",
   "execution_count": 4,
   "id": "22545689",
   "metadata": {},
   "outputs": [],
   "source": [
    "def searchMcl(nav, cod, index):\n",
    "    element = nav.find_element(By.CLASS_NAME, 'search-box-btn')\n",
    "    element.click()\n",
    "    nav.implicitly_wait(0.8)\n",
    "    element = nav.find_element(By.NAME, 'inputSearchPro')\n",
    "    element.click()\n",
    "    element.send_keys(str(cod))\n",
    "    element.send_keys(Keys.ENTER)\n",
    "    searchByProduct(nav, cod, index)"
   ]
  },
  {
   "cell_type": "code",
   "execution_count": 5,
   "id": "62a8aad2",
   "metadata": {
    "scrolled": true
   },
   "outputs": [
    {
     "name": "stdout",
     "output_type": "stream",
     "text": [
      "https://mcl.ind.br/uploads/products/-08/suporte-8af4fdb6cb.jpg\n",
      "84320558\n",
      "Suporte em Aço Colheitadeira Alternativa New Holland - 84320558\n",
      "{'Marca:': ' Alternativa New Holland', 'Aplicabilidade: ': 'Suporte de Aço para pá ventilação.', 'Material:': ' Lataria', 'Código Original:': '84320558', 'Garantia: ': '3 meses', 'Unidade de Medida': ' UN'}\n"
     ]
    }
   ],
   "source": [
    "searchMcl(nav, 84320558, 1)"
   ]
  },
  {
   "cell_type": "code",
   "execution_count": 6,
   "id": "b56dbe20",
   "metadata": {
    "scrolled": true
   },
   "outputs": [
    {
     "name": "stdout",
     "output_type": "stream",
     "text": [
      "https://mcl.ind.br/uploads/products/2022-08/fixador-b4c8e2db43.jpg\n",
      "500366000\n",
      "Fixador Plataforma Alternativa Vence Tudo - 500366000\n",
      "{'Marca:': ' Alternativa John Deere', 'Aplicabilidade: ': 'Fixador 45 e 50 cm para carenagem central modelos: Bocuda EAGLE.', 'Material:': ' Lataria', 'Código Original:': '500366000', 'Garantia: ': '3 meses', 'Unidade de Medida': ' UN'}\n"
     ]
    }
   ],
   "source": [
    "searchMcl(nav, 500366000, 1)"
   ]
  },
  {
   "cell_type": "code",
   "execution_count": 8,
   "id": "cf74bee0",
   "metadata": {},
   "outputs": [
    {
     "name": "stdout",
     "output_type": "stream",
     "text": [
      "https://mcl.ind.br/uploads/products/2021-10/base-apoio-corrente-1c2dd5f511.jpg\n",
      "produto 5003 não encontrado\n",
      "Message: no such element: Unable to locate element: {\"method\":\"xpath\",\"selector\":\"//*[@id=\"content\"]/div/div[2]/div/p[2]/span[1]\"}\n",
      "  (Session info: chrome=106.0.5249.119)\n",
      "Stacktrace:\n",
      "#0 0x55e4eb8ca2c3 <unknown>\n",
      "#1 0x55e4eb6d383a <unknown>\n",
      "#2 0x55e4eb70c985 <unknown>\n",
      "#3 0x55e4eb70cb61 <unknown>\n",
      "#4 0x55e4eb744d14 <unknown>\n",
      "#5 0x55e4eb72af6d <unknown>\n",
      "#6 0x55e4eb742a50 <unknown>\n",
      "#7 0x55e4eb72ad63 <unknown>\n",
      "#8 0x55e4eb6ff7e3 <unknown>\n",
      "#9 0x55e4eb700a21 <unknown>\n",
      "#10 0x55e4eb91818e <unknown>\n",
      "#11 0x55e4eb91b622 <unknown>\n",
      "#12 0x55e4eb8feaae <unknown>\n",
      "#13 0x55e4eb91c2a3 <unknown>\n",
      "#14 0x55e4eb8f2ecf <unknown>\n",
      "#15 0x55e4eb93c588 <unknown>\n",
      "#16 0x55e4eb93c706 <unknown>\n",
      "#17 0x55e4eb9568b2 <unknown>\n",
      "#18 0x7fdfc7114e2d <unknown>\n",
      "\n"
     ]
    }
   ],
   "source": [
    "searchMcl(nav, 5003, 1)"
   ]
  }
 ],
 "metadata": {
  "kernelspec": {
   "display_name": "Python 3 (ipykernel)",
   "language": "python",
   "name": "python3"
  },
  "language_info": {
   "codemirror_mode": {
    "name": "ipython",
    "version": 3
   },
   "file_extension": ".py",
   "mimetype": "text/x-python",
   "name": "python",
   "nbconvert_exporter": "python",
   "pygments_lexer": "ipython3",
   "version": "3.9.13"
  }
 },
 "nbformat": 4,
 "nbformat_minor": 5
}
