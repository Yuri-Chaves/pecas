{
 "cells": [
  {
   "cell_type": "code",
   "execution_count": 1,
   "id": "eeabdfd7",
   "metadata": {},
   "outputs": [],
   "source": [
    "def algumaCoisa(String):\n",
    "    \"\"\"\n",
    "    Retorna a String\n",
    "    \"\"\"\n",
    "    return String"
   ]
  },
  {
   "cell_type": "code",
   "execution_count": 2,
   "id": "02a4cfa9",
   "metadata": {},
   "outputs": [],
   "source": [
    "def outraFunc(num):\n",
    "    \"\"\"\n",
    "    Retorna o número +1\n",
    "    \"\"\"\n",
    "    return num +1"
   ]
  },
  {
   "cell_type": "code",
   "execution_count": null,
   "id": "a2092770",
   "metadata": {},
   "outputs": [],
   "source": []
  }
 ],
 "metadata": {
  "kernelspec": {
   "display_name": "Python 3 (ipykernel)",
   "language": "python",
   "name": "python3"
  },
  "language_info": {
   "codemirror_mode": {
    "name": "ipython",
    "version": 3
   },
   "file_extension": ".py",
   "mimetype": "text/x-python",
   "name": "python",
   "nbconvert_exporter": "python",
   "pygments_lexer": "ipython3",
   "version": "3.9.13"
  }
 },
 "nbformat": 4,
 "nbformat_minor": 5
}
