{
 "cells": [
  {
   "cell_type": "code",
   "execution_count": 1,
   "id": "5c3398c9",
   "metadata": {},
   "outputs": [],
   "source": [
    "import urllib.request as request"
   ]
  },
  {
   "cell_type": "code",
   "execution_count": 5,
   "id": "3bfe3217",
   "metadata": {},
   "outputs": [],
   "source": [
    "url = 'https://www.commersul.com.br/wp-content/uploads/2022/04/381185-1.png'\n",
    "url2 = 'https://mcl.ind.br/uploads/products/-10/abracadeira-d-630bdeda27.jpg'\n",
    "url3 = 'http://www.minasdistribuidora.net/uploads/produtos/60200108089-1505055447.jpg'"
   ]
  },
  {
   "cell_type": "code",
   "execution_count": 8,
   "id": "bd0c6569",
   "metadata": {},
   "outputs": [
    {
     "name": "stdout",
     "output_type": "stream",
     "text": [
      "{'123': 'https://www.commersul.com.br/wp-content/uploads/2022/04/381185-1.png', '456': 'https://mcl.ind.br/uploads/products/-10/abracadeira-d-630bdeda27.jpg', '789': 'http://www.minasdistribuidora.net/uploads/produtos/60200108089-1505055447.jpg'}\n"
     ]
    }
   ],
   "source": [
    "urls = {'123' : url, '456' : url2, '789' : url3}\n",
    "print(urls)"
   ]
  },
  {
   "cell_type": "code",
   "execution_count": 4,
   "id": "74c3123c",
   "metadata": {},
   "outputs": [],
   "source": [
    "try:\n",
    "    request.urlretrieve(url, r'teste/teste.png')\n",
    "except Exception as e:\n",
    "    print(e)"
   ]
  },
  {
   "cell_type": "code",
   "execution_count": 9,
   "id": "9988be53",
   "metadata": {},
   "outputs": [],
   "source": [
    "for cod, url in urls.items():\n",
    "    try:\n",
    "        request.urlretrieve(url, r'teste/{}'.format(cod))\n",
    "    except Exception as e:\n",
    "        print(e)"
   ]
  }
 ],
 "metadata": {
  "kernelspec": {
   "display_name": "Python 3 (ipykernel)",
   "language": "python",
   "name": "python3"
  },
  "language_info": {
   "codemirror_mode": {
    "name": "ipython",
    "version": 3
   },
   "file_extension": ".py",
   "mimetype": "text/x-python",
   "name": "python",
   "nbconvert_exporter": "python",
   "pygments_lexer": "ipython3",
   "version": "3.9.13"
  }
 },
 "nbformat": 4,
 "nbformat_minor": 5
}
