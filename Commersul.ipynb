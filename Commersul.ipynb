{
 "cells": [
  {
   "cell_type": "code",
   "execution_count": 1,
   "id": "ee9267f1",
   "metadata": {},
   "outputs": [],
   "source": [
    "# Selenium\n",
    "from selenium import webdriver\n",
    "from selenium.webdriver.common.keys import Keys\n",
    "from selenium.webdriver.common.by import By\n",
    "from selenium.webdriver.support.wait import WebDriverWait\n",
    "from selenium.webdriver.support import expected_conditions as EC\n",
    "#Resolvendo problema do chromeDrive\n",
    "from selenium.webdriver.chrome.service import Service\n",
    "from webdriver_manager.chrome import ChromeDriverManager\n",
    "# Pandas\n",
    "import pandas as pd\n",
    "# RegEx / Regular Expressions\n",
    "import re\n",
    "# Operating system\n",
    "import os\n",
    "import time"
   ]
  },
  {
   "cell_type": "code",
   "execution_count": 2,
   "id": "5302796d",
   "metadata": {},
   "outputs": [],
   "source": [
    "commersul = 'https://www.commersul.com.br/shop/'\n",
    "notFound = pd.DataFrame()\n",
    "notFound[\"Produto\"] = ''\n",
    "notFound['Motivo'] = ''\n",
    "cwd = os.getcwd()"
   ]
  },
  {
   "cell_type": "code",
   "execution_count": 3,
   "id": "c54b8228",
   "metadata": {},
   "outputs": [],
   "source": [
    "query = pd.read_csv('produtos_bot_yury_not_vv.txt', encoding = 'latin1', sep=',')\n",
    "df_query = pd.DataFrame(query)\n",
    "df_query.drop('IDX', axis=1, inplace=True)"
   ]
  },
  {
   "cell_type": "code",
   "execution_count": 4,
   "id": "1e62a5c0",
   "metadata": {},
   "outputs": [],
   "source": [
    "def contains_number(string):\n",
    "    return any(char.isdigit() for char in string)"
   ]
  },
  {
   "cell_type": "code",
   "execution_count": 5,
   "id": "7dca8602",
   "metadata": {},
   "outputs": [],
   "source": [
    "def findOEM(text):\n",
    "    oem = []\n",
    "    if 'VV' in text:\n",
    "        indice = text.find('VV')\n",
    "        text = text.replace(text[indice:], '')\n",
    "    if 'MCL' in text:\n",
    "        cod_mcl = text.find('MCL')\n",
    "        copy_text = text\n",
    "        text = text[:cod_mcl]\n",
    "        cod_mcl = copy_text[cod_mcl:]\n",
    "        cod_mcl = cod_mcl.replace(' ', '')\n",
    "        if contains_number(cod_mcl):\n",
    "            if len(cod_mcl) > 5:\n",
    "                oem.append(cod_mcl)\n",
    "    if not contains_number(text):\n",
    "        return oem\n",
    "    num = re.search(r'\\d+', text)\n",
    "    indice = text.find(num.group())\n",
    "    lastspace = text.rfind(' ', 0, indice)\n",
    "    remover = [text[:lastspace], '.', '-']\n",
    "    for rm in remover:\n",
    "        text = text.replace(rm, '')\n",
    "    text = text.replace(' ', '/')\n",
    "    text = text.split('/')\n",
    "    for txt in text:\n",
    "        if contains_number(txt):\n",
    "            if len(txt) >= 5:\n",
    "                if not contains_number(txt[-1]):\n",
    "                    txt = txt.replace(txt[-1], '')\n",
    "                oem.append(txt)\n",
    "    return oem"
   ]
  },
  {
   "cell_type": "code",
   "execution_count": 6,
   "id": "255ab808",
   "metadata": {},
   "outputs": [],
   "source": [
    "def commersulSearch(nav, cod, index):\n",
    "    nav.get(str(commersul))\n",
    "    elemento = nav.find_element(By.XPATH, '//*[@id=\"th-search-form-1\"]')\n",
    "    elemento.send_keys(str(cod))\n",
    "    elemento.send_keys(Keys.ENTER)\n",
    "    nav.implicitly_wait(0.8)\n",
    "    try:\n",
    "        keys = []\n",
    "        values = []\n",
    "        keys.append('Nome: ')\n",
    "        values.append(nav.find_element(By.CLASS_NAME, 'product_title').text)\n",
    "        keys.append('Cod. Cotripal: ')\n",
    "        values.append(index)\n",
    "        \n",
    "        elemento = nav.find_element(By.CLASS_NAME, 'woocommerce-product-gallery__wrapper')\n",
    "        elemento = elemento.find_element(By.TAG_NAME, 'a')\n",
    "        keys.append('Imagem: ')\n",
    "        values.append(elemento.get_attribute('href'))\n",
    "        \n",
    "        elemento = nav.find_element(By.CLASS_NAME, 'th-product__meta')\n",
    "        ths = elemento.find_elements(By.TAG_NAME, 'th')\n",
    "        tds = elemento.find_elements(By.TAG_NAME, 'td')\n",
    "        for th in ths:\n",
    "            th = th.text\n",
    "            keys.append(th)\n",
    "        for td in tds:\n",
    "            td = td.text\n",
    "            values.append(td)\n",
    "        dict_infos = dict(zip(keys, values))\n",
    "        dict_infos.pop('COD. COMMERSUL')\n",
    "        dict_infos = str(dict_infos)\n",
    "        dict_infos = dict_infos.replace(\"'\", '\"')\n",
    "        with open(f'{cwd}/Commersul/prods.json', 'a') as arquivo:\n",
    "            arquivo.write(dict_infos)\n",
    "    except Exception as e:\n",
    "        notFound.loc[len(notFound)] = [index, 'Não encontrado no site']\n",
    "        return"
   ]
  },
  {
   "cell_type": "code",
   "execution_count": 7,
   "id": "5bd7d9c7",
   "metadata": {},
   "outputs": [],
   "source": [
    "chrome_options = webdriver.ChromeOptions()\n",
    "servico = Service(ChromeDriverManager().install())\n",
    "#chrome_options.add_argument('headless')\n",
    "nav = webdriver.Chrome(options=chrome_options, service=servico)"
   ]
  },
  {
   "cell_type": "code",
   "execution_count": 8,
   "id": "50e75889",
   "metadata": {},
   "outputs": [],
   "source": [
    "produtos = dict(zip(df_query['ET0100_PRODUTO'], df_query['ET0100_NOME']))\n",
    "for ID, cod in produtos.items():\n",
    "    cods = findOEM(cod)\n",
    "    for item in cods:\n",
    "        commersulSearch(nav, item, ID)"
   ]
  },
  {
   "cell_type": "code",
   "execution_count": 9,
   "id": "12e18de2",
   "metadata": {},
   "outputs": [],
   "source": [
    "# commersulSearch(nav, '046781', 1)"
   ]
  },
  {
   "cell_type": "code",
   "execution_count": 11,
   "id": "e95d622f",
   "metadata": {},
   "outputs": [
    {
     "data": {
      "text/html": [
       "<div>\n",
       "<style scoped>\n",
       "    .dataframe tbody tr th:only-of-type {\n",
       "        vertical-align: middle;\n",
       "    }\n",
       "\n",
       "    .dataframe tbody tr th {\n",
       "        vertical-align: top;\n",
       "    }\n",
       "\n",
       "    .dataframe thead th {\n",
       "        text-align: right;\n",
       "    }\n",
       "</style>\n",
       "<table border=\"1\" class=\"dataframe\">\n",
       "  <thead>\n",
       "    <tr style=\"text-align: right;\">\n",
       "      <th></th>\n",
       "      <th>Produto</th>\n",
       "      <th>Motivo</th>\n",
       "    </tr>\n",
       "  </thead>\n",
       "  <tbody>\n",
       "    <tr>\n",
       "      <th>0</th>\n",
       "      <td>101011714</td>\n",
       "      <td>Não encontrado no site</td>\n",
       "    </tr>\n",
       "    <tr>\n",
       "      <th>1</th>\n",
       "      <td>100276657</td>\n",
       "      <td>Não encontrado no site</td>\n",
       "    </tr>\n",
       "    <tr>\n",
       "      <th>2</th>\n",
       "      <td>101066264</td>\n",
       "      <td>Não encontrado no site</td>\n",
       "    </tr>\n",
       "    <tr>\n",
       "      <th>3</th>\n",
       "      <td>100096446</td>\n",
       "      <td>Não encontrado no site</td>\n",
       "    </tr>\n",
       "    <tr>\n",
       "      <th>4</th>\n",
       "      <td>100185867</td>\n",
       "      <td>Não encontrado no site</td>\n",
       "    </tr>\n",
       "    <tr>\n",
       "      <th>...</th>\n",
       "      <td>...</td>\n",
       "      <td>...</td>\n",
       "    </tr>\n",
       "    <tr>\n",
       "      <th>101</th>\n",
       "      <td>105001070</td>\n",
       "      <td>Não encontrado no site</td>\n",
       "    </tr>\n",
       "    <tr>\n",
       "      <th>102</th>\n",
       "      <td>101167114</td>\n",
       "      <td>Não encontrado no site</td>\n",
       "    </tr>\n",
       "    <tr>\n",
       "      <th>103</th>\n",
       "      <td>101167114</td>\n",
       "      <td>Não encontrado no site</td>\n",
       "    </tr>\n",
       "    <tr>\n",
       "      <th>104</th>\n",
       "      <td>101053066</td>\n",
       "      <td>Não encontrado no site</td>\n",
       "    </tr>\n",
       "    <tr>\n",
       "      <th>105</th>\n",
       "      <td>101053066</td>\n",
       "      <td>Não encontrado no site</td>\n",
       "    </tr>\n",
       "  </tbody>\n",
       "</table>\n",
       "<p>106 rows × 2 columns</p>\n",
       "</div>"
      ],
      "text/plain": [
       "       Produto                  Motivo\n",
       "0    101011714  Não encontrado no site\n",
       "1    100276657  Não encontrado no site\n",
       "2    101066264  Não encontrado no site\n",
       "3    100096446  Não encontrado no site\n",
       "4    100185867  Não encontrado no site\n",
       "..         ...                     ...\n",
       "101  105001070  Não encontrado no site\n",
       "102  101167114  Não encontrado no site\n",
       "103  101167114  Não encontrado no site\n",
       "104  101053066  Não encontrado no site\n",
       "105  101053066  Não encontrado no site\n",
       "\n",
       "[106 rows x 2 columns]"
      ]
     },
     "metadata": {},
     "output_type": "display_data"
    }
   ],
   "source": [
    "display(notFound)"
   ]
  },
  {
   "cell_type": "code",
   "execution_count": 12,
   "id": "c1c7aa76",
   "metadata": {},
   "outputs": [],
   "source": [
    "notFound.to_excel(f'{cwd}/Commersul/notFound.xlsx')"
   ]
  }
 ],
 "metadata": {
  "kernelspec": {
   "display_name": "Python 3 (ipykernel)",
   "language": "python",
   "name": "python3"
  },
  "language_info": {
   "codemirror_mode": {
    "name": "ipython",
    "version": 3
   },
   "file_extension": ".py",
   "mimetype": "text/x-python",
   "name": "python",
   "nbconvert_exporter": "python",
   "pygments_lexer": "ipython3",
   "version": "3.9.13"
  }
 },
 "nbformat": 4,
 "nbformat_minor": 5
}
