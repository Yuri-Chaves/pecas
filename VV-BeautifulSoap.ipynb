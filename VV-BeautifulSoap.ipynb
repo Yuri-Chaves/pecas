{
 "cells": [
  {
   "cell_type": "code",
   "execution_count": 1,
   "id": "495f809e",
   "metadata": {},
   "outputs": [],
   "source": [
    "# Query \n",
    "from __future__ import division\n",
    "import pyodbc, sys, socket\n",
    "# Web Scrappnig\n",
    "import requests\n",
    "from bs4 import BeautifulSoup\n",
    "# Pandas\n",
    "import pandas as pd\n",
    "# RegEx / Regular Expressions\n",
    "import re\n",
    "from re import sub\n",
    "# Json\n",
    "import json\n",
    "# Limpar Output\n",
    "from IPython.display import clear_output"
   ]
  },
  {
   "cell_type": "code",
   "execution_count": 2,
   "id": "fac12347",
   "metadata": {},
   "outputs": [],
   "source": [
    "arg=socket.gethostname()\n",
    "cnxn = pyodbc.connect('DRIVER={DBMAKER};SERVER=' + arg + ';DATABASE=COTRIPALDB_SIMPLUS_BASE;UID=SYSADM;PWD=')\n",
    "cursor = cnxn.cursor()\n",
    "\n",
    "sql=(\"select a.gtin , a.codigo_cotripal, cast(a.descricao as varchar(250)) as nome, a.id_erp_departamento, a.id_erp_setor, a.id_erp_item from produto as a where a.id_erp_departamento = 018 and a.descricao like '%VV%' ORDER BY IDX;\")\n",
    "\n",
    "\n",
    "cursor.execute(sql)\n",
    "\n",
    "rows = cursor.fetchall()\n",
    "\n",
    "cursor.close()"
   ]
  },
  {
   "cell_type": "code",
   "execution_count": 3,
   "id": "594299d3",
   "metadata": {},
   "outputs": [],
   "source": [
    "headers = {\n",
    "    \"User-Agent\" : \"Mozilla/5.0 (X11; Linux x86_64) AppleWebKit/537.36 (KHTML, like Gecko) Chrome/106.0.0.0 Safari/537.36\"\n",
    "}\n",
    "global url\n",
    "url = 'https://www.vv.com.br/pt/produto/detalhe/'\n",
    "global infos\n",
    "infos = []\n",
    "\n",
    "notFound = pd.DataFrame()\n",
    "notFound['gtin'] = ''\n",
    "notFound['cod_cotripal'] = ''\n",
    "notFound['nome_produto'] = ''\n",
    "notFound['id_erp_departamento'] = ''\n",
    "notFound['id_erp_setor'] = ''\n",
    "notFound['id_erp_item'] = ''\n",
    "notFound['info_extra'] = ''"
   ]
  },
  {
   "cell_type": "code",
   "execution_count": 4,
   "id": "3f09b968",
   "metadata": {},
   "outputs": [],
   "source": [
    "def findVVCod(nome):\n",
    "    indice = nome.find('VV')\n",
    "    nome = nome[indice:]\n",
    "    nome = nome.replace(' ', '/')\n",
    "    nome = nome.split('/')\n",
    "    cods = []\n",
    "    for cod in nome:\n",
    "        if 'VV-' in cod:\n",
    "            cod = cod.replace('VV-', '')\n",
    "            cod = re.sub('[A-Z]', '', cod)\n",
    "            cods.append(cod)\n",
    "    return cods"
   ]
  },
  {
   "cell_type": "code",
   "execution_count": 5,
   "id": "fa96a617",
   "metadata": {},
   "outputs": [],
   "source": [
    "def search(row):\n",
    "    cod = str(findVVCod(row[2])[0])\n",
    "    if not '-' in cod:\n",
    "        notFound.loc[len(notFound)] = [row[0], row[1], row[2], row[3], row[4], row[5], 'Cód. VV sem sufixo']\n",
    "        return\n",
    "    link = str(url + cod)\n",
    "    req = requests.get(link, headers=headers)\n",
    "    if req.status_code != 200:\n",
    "        notFound.loc[len(notFound)] = [row[0], row[1], row[2], row[3], row[4], row[5], f'Erro na requisição: status {req.status_code}']\n",
    "        return\n",
    "    site = BeautifulSoup(req.text, \"html.parser\")\n",
    "    equipamentos = site.find(\"ul\", class_=\"listarEquipamentos\")\n",
    "    if not equipamentos:\n",
    "        notFound.loc[len(notFound)] = [row[0], row[1], row[2], row[3], row[4], row[5], 'Produto não encontrato no site']\n",
    "        return\n",
    "    equipamentosList = []\n",
    "    for li in equipamentos.contents:\n",
    "        if len(li) > 1:\n",
    "            keys = []\n",
    "            values = []\n",
    "            for el in li.find_all(\"h3\"):\n",
    "                keys.append(el.get_text())\n",
    "            for el in li.find_all(\"p\"):\n",
    "                values.append(el.get_text())\n",
    "            try:\n",
    "                equipamentosList.append({ keys[0] : values[0], keys[1] : values[1], keys[2] : values[2:] })\n",
    "            except:\n",
    "                equipamentosList.append({ keys[0] : values[0], keys[1] : values[1] })\n",
    "    urlImagens = []\n",
    "    imagens = site.find(\"ul\", class_=\"listaGaleria\")\n",
    "    imagens = imagens.find_all(\"img\")\n",
    "    for img in imagens:\n",
    "        urlImagens.append(\"https://www.vv.com.br/\" + img[\"src\"])\n",
    "    nome = site.find(\"div\", class_=\"subtitulo\")\n",
    "    nome = nome.find(\"h2\").get_text()\n",
    "    descricao = site.find(\"div\", class_=\"descricao\")\n",
    "    descricao = descricao.find(\"ul\")\n",
    "    descricao_keys = []\n",
    "    descricao_values =[]\n",
    "    for li in descricao.contents:\n",
    "        if len(li) > 1:\n",
    "            for el in li.find_all(\"h3\"):\n",
    "                descricao_keys.append(el.get_text())\n",
    "            for el in li.find_all(\"p\"):\n",
    "                descricao_values.append(el.get_text())\n",
    "\n",
    "    itemInfo = {\n",
    "        \"gtin\" : row[0],\n",
    "        \"codigo_cotripal\" : row[1],\n",
    "        \"id_erp_departamento\" : row[3],\n",
    "        \"id_erp_setor\" : row[4],\n",
    "        \"id_erp_item\" : row[5],\n",
    "        \"nome\" : nome,\n",
    "        \"imagens\" : urlImagens\n",
    "    }\n",
    "    for i, key in enumerate(descricao_keys):\n",
    "        itemInfo.update({key : descricao_values[i]})\n",
    "    itemInfo.update({\"Equipamentos\":equipamentosList})\n",
    "    infos.append(itemInfo)"
   ]
  },
  {
   "cell_type": "code",
   "execution_count": 6,
   "id": "21b59b1f",
   "metadata": {},
   "outputs": [
    {
     "name": "stdout",
     "output_type": "stream",
     "text": [
      "|- Carregando... -----------|\n",
      "|---------------------------|\n",
      "|- 100.00% Concluido -------|\n",
      "|- 000 Produtos restantes --|\n",
      "|---------------------------|\n"
     ]
    }
   ],
   "source": [
    "for i, row in enumerate(rows):\n",
    "    try:\n",
    "        search(row)\n",
    "        clear_output(wait=True)\n",
    "        print('|- Carregando... {:->12}'.format('|'))\n",
    "        print('|{:->28}'.format('|'))\n",
    "        print('|- {:06.2f}% Concluido {:->8}'.format(((i + 1)/len(rows))*100, '|'))\n",
    "        print('|- {:03} Produtos restantes {:->3}'.format(len(rows)-(i + 1), '|'))\n",
    "        print('|{:->28}'.format('|'))\n",
    "    except IndexError as e:\n",
    "        notFound.loc[len(notFound)] = [row[0], row[1], row[2], row[3], row[4], row[5], f'Problemas em identificar o cód VV no nome']\n",
    "    except Exception as e:\n",
    "        notFound.loc[len(notFound)] = [row[0], row[1], row[2], row[3], row[4], row[5], f'{e}']"
   ]
  },
  {
   "cell_type": "code",
   "execution_count": 7,
   "id": "8764207a",
   "metadata": {},
   "outputs": [],
   "source": [
    "with open(f'VV/BeautifulSoap/infos.json', 'a') as arq:\n",
    "    arq.write(json.dumps(infos, ensure_ascii=False))\n",
    "notFound.to_excel(f'VV/BeautifulSoap/notFound.xlsx')"
   ]
  },
  {
   "cell_type": "markdown",
   "id": "c7d9d870",
   "metadata": {},
   "source": [
    "<h1><span style=\"color:#333333;font-weight: 400\">Tempo de execução: <span style=\"color:#05AC4B; font-weight: 900\">00:02:15</span></span></h1>\n",
    "<h1><span style=\"color:#333333;font-weight: 400\">Total de produtos: <span style=\"color:#2F80ED; font-weight: 900\">427</span></span></h1>\n",
    "    <h1><span style=\"color:#333333;font-weight: 400\">Produtos não encontrados: <span style=\"color:#D40000; font-weight: 900\">86</span></span></h1>\n",
    "<h1><span style=\"color:#333333;font-weight: 400\">Percentual de produtos encontrados: <span style=\"color:#6720C0; font-weight: 900\">79.86%</span></span></h1>\n"
   ]
  }
 ],
 "metadata": {
  "kernelspec": {
   "display_name": "Python 3 (ipykernel)",
   "language": "python",
   "name": "python3"
  },
  "language_info": {
   "codemirror_mode": {
    "name": "ipython",
    "version": 3
   },
   "file_extension": ".py",
   "mimetype": "text/x-python",
   "name": "python",
   "nbconvert_exporter": "python",
   "pygments_lexer": "ipython3",
   "version": "3.9.13"
  }
 },
 "nbformat": 4,
 "nbformat_minor": 5
}
