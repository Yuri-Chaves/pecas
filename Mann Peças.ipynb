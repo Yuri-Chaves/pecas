{
 "cells": [
  {
   "cell_type": "code",
   "execution_count": 1,
   "id": "224e452c",
   "metadata": {},
   "outputs": [],
   "source": [
    "# Selenium\n",
    "from selenium import webdriver\n",
    "from selenium.webdriver.common.keys import Keys\n",
    "from selenium.webdriver.common.by import By\n",
    "from selenium.webdriver.support.wait import WebDriverWait\n",
    "from selenium.webdriver.support import expected_conditions as EC\n",
    "#Resolvendo problema do chromeDrive\n",
    "from selenium.webdriver.chrome.service import Service\n",
    "from webdriver_manager.chrome import ChromeDriverManager\n",
    "# Pandas\n",
    "import pandas as pd\n",
    "# RegEx / Regular Expressions\n",
    "import re\n",
    "# Operating system\n",
    "import os\n",
    "import time"
   ]
  },
  {
   "cell_type": "code",
   "execution_count": 2,
   "id": "74373616",
   "metadata": {},
   "outputs": [],
   "source": [
    "mann_pecas = 'http://cigamcatalogo.mannpecas.com.br/'\n",
    "user = '91982496001920'\n",
    "password = '9020'\n",
    "notFound = pd.DataFrame()\n",
    "notFound[\"Cod. Produto\"] = ''\n",
    "notFound['Nome'] = ''\n",
    "notFound[\"Cod. Testado\"] = ''\n",
    "notFound['Motivo'] = ''\n",
    "cwd = os.getcwd()"
   ]
  },
  {
   "cell_type": "code",
   "execution_count": 3,
   "id": "5694a4e9",
   "metadata": {},
   "outputs": [],
   "source": [
    "query = pd.read_csv('produtos_bot_yury_not_vv.txt', encoding = 'latin1', sep=',')\n",
    "df_query = pd.DataFrame(query)\n",
    "df_query.drop('IDX', axis=1, inplace=True)"
   ]
  },
  {
   "cell_type": "code",
   "execution_count": 4,
   "id": "204d77c3",
   "metadata": {},
   "outputs": [],
   "source": [
    "def contains_number(string):\n",
    "    return any(char.isdigit() for char in string)"
   ]
  },
  {
   "cell_type": "code",
   "execution_count": 5,
   "id": "4293efc8",
   "metadata": {},
   "outputs": [],
   "source": [
    "def findOEM(text):\n",
    "    oem = []\n",
    "    if 'VV' in text:\n",
    "        indice = text.find('VV')\n",
    "        text = text.replace(text[indice:], '')\n",
    "    if 'MCL' in text:\n",
    "        cod_mcl = text.find('MCL')\n",
    "        copy_text = text\n",
    "        text = text[:cod_mcl]\n",
    "        cod_mcl = copy_text[cod_mcl:]\n",
    "        cod_mcl = cod_mcl.replace(' ', '')\n",
    "        if contains_number(cod_mcl):\n",
    "            if len(cod_mcl) > 5:\n",
    "                oem.append(cod_mcl)\n",
    "    if not contains_number(text):\n",
    "        return oem\n",
    "    num = re.search(r'\\d+', text)\n",
    "    indice = text.find(num.group())\n",
    "    lastspace = text.rfind(' ', 0, indice)\n",
    "    remover = [text[:lastspace], '.', '-']\n",
    "    for rm in remover:\n",
    "        text = text.replace(rm, '')\n",
    "    text = text.replace(' ', '/')\n",
    "    text = text.split('/')\n",
    "    for txt in text:\n",
    "        if contains_number(txt):\n",
    "            if len(txt) >= 5:\n",
    "                if not contains_number(txt[-1]):\n",
    "                    txt = txt.replace(txt[-1], '')\n",
    "                oem.append(txt)\n",
    "    return oem"
   ]
  },
  {
   "cell_type": "code",
   "execution_count": 6,
   "id": "0f2c913a",
   "metadata": {},
   "outputs": [],
   "source": [
    "chrome_options = webdriver.ChromeOptions()\n",
    "servico = Service(ChromeDriverManager().install())\n",
    "#chrome_options.add_argument('headless')\n",
    "nav = webdriver.Chrome(options=chrome_options, service=servico)\n",
    "nav.maximize_window()\n",
    "nav.get(str(mann_pecas))\n",
    "nav.find_element(By.ID, 'usuario').send_keys(user)\n",
    "nav.find_element(By.ID, 'senha').send_keys(password)\n",
    "nav.find_element(By.ID, 'botao-login').click()\n",
    "time.sleep(2)\n",
    "with open(f'{cwd}/Mann Peças/prods.json', 'a') as arquivo:\n",
    "            arquivo.write('[')\n",
    "nav.get(str(mann_pecas + 'lst_produtos.php'))"
   ]
  },
  {
   "cell_type": "code",
   "execution_count": 13,
   "id": "650ce40a",
   "metadata": {},
   "outputs": [],
   "source": [
    "def mann_pecas_search(cod, nome, index):\n",
    "    produto = {}\n",
    "    registrado = False\n",
    "    nav.find_element(By.ID, 'pesquisa').send_keys(Keys.CONTROL + 'a')\n",
    "    nav.find_element(By.ID, 'pesquisa').send_keys(Keys.BACKSPACE)\n",
    "    nav.find_element(By.ID, 'pesquisa').send_keys(str(cod))\n",
    "    nav.find_element(By.ID, 'pesquisa').send_keys(Keys.ENTER)\n",
    "    element = nav.find_element(By.ID, 'dadosProduto')\n",
    "    element = element.find_element(By.TAG_NAME, 'tbody')\n",
    "    elements = element.find_elements(By.TAG_NAME, 'tr')\n",
    "    keys = ['Preço Tabela :', 'Preço:', 'IPI', 'Base ST', 'Subst.Trib.:', 'Tipo.Op.:', 'Desconto:', 'Preço Final', 'Estoque:']\n",
    "    for element in elements:\n",
    "        if element == elements[-1]:\n",
    "            img = element.find_element(By.TAG_NAME, 'a').get_attribute('href')\n",
    "            produto.update({\"Imagem: \" : img})\n",
    "        else:\n",
    "            tds = element.find_elements(By.TAG_NAME, 'td')\n",
    "            if len(tds) > 1:\n",
    "                if tds[0].text not in keys:\n",
    "                    try:\n",
    "                        produto.update({tds[0].text : int(tds[1].text)})\n",
    "                    except:\n",
    "                        produto.update({tds[0].text : tds[1].text})\n",
    "    produto.update({\"Cod. Cotripal: \" : index})\n",
    "    for key in produto.keys():\n",
    "        if cod == produto[key] and registrado == False:\n",
    "            registrado = True\n",
    "    if registrado:\n",
    "        produto = str(produto)\n",
    "        produto = produto.replace('\"', '\\\"')\n",
    "        produto = produto.replace(\"'\", '\"')\n",
    "        with open(f'{cwd}/Mann Peças/prods.json', 'a') as arquivo:\n",
    "            arquivo.write(produto)\n",
    "            arquivo.write(',')\n",
    "    else:\n",
    "        notFound.loc[len(notFound)] = [index, nome, cod, 'não encontrado no site']"
   ]
  },
  {
   "cell_type": "code",
   "execution_count": 8,
   "id": "2534c409",
   "metadata": {},
   "outputs": [],
   "source": [
    "# time.sleep(2)\n",
    "# mann_pecas_search('CQ27636','HASTE CAIXA PENEIRA CQ-276.36/Z-230.58', 1)\n",
    "# mann_pecas_search('AE00101', 1)"
   ]
  },
  {
   "cell_type": "code",
   "execution_count": 9,
   "id": "992734b2",
   "metadata": {},
   "outputs": [],
   "source": [
    "with open(f'{cwd}/Mann Peças/prods.json', 'a') as arquivo:\n",
    "            arquivo.write(']')"
   ]
  },
  {
   "cell_type": "code",
   "execution_count": 14,
   "id": "bbec5a83",
   "metadata": {},
   "outputs": [],
   "source": [
    "time.sleep(2)\n",
    "produtos = dict(zip(df_query['ET0100_PRODUTO'], df_query['ET0100_NOME']))\n",
    "for cod, nome in produtos.items():\n",
    "    cods = findOEM(nome)\n",
    "    if cods:\n",
    "#         print(f'{cod} -> {nome} = {cods}')\n",
    "        for oem in cods:\n",
    "            mann_pecas_search(oem, nome, cods)\n",
    "    else:\n",
    "        notFound.loc[len(notFound)] = [cod, nome, '', 'não foi possível obter o código OEM'] \n",
    "#     for item in cods:\n",
    "#         mann_pecas_search(item,nome, cod)"
   ]
  },
  {
   "cell_type": "code",
   "execution_count": 11,
   "id": "0fc78e98",
   "metadata": {},
   "outputs": [],
   "source": [
    "notFound.to_excel(f'{cwd}/Mann Peças/notFound.xlsx')"
   ]
  }
 ],
 "metadata": {
  "kernelspec": {
   "display_name": "Python 3 (ipykernel)",
   "language": "python",
   "name": "python3"
  },
  "language_info": {
   "codemirror_mode": {
    "name": "ipython",
    "version": 3
   },
   "file_extension": ".py",
   "mimetype": "text/x-python",
   "name": "python",
   "nbconvert_exporter": "python",
   "pygments_lexer": "ipython3",
   "version": "3.9.13"
  }
 },
 "nbformat": 4,
 "nbformat_minor": 5
}
