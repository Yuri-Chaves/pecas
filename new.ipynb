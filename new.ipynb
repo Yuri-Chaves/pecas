{
 "cells": [
  {
   "cell_type": "code",
   "execution_count": 1,
   "id": "23ee3823",
   "metadata": {},
   "outputs": [],
   "source": [
    "# Selenium\n",
    "from selenium import webdriver\n",
    "from selenium.webdriver.common.keys import Keys\n",
    "from selenium.webdriver.common.by import By\n",
    "from selenium.webdriver.support.wait import WebDriverWait\n",
    "from selenium.webdriver.support import expected_conditions as EC\n",
    "#Resolvendo problema do chromeDrive\n",
    "from selenium.webdriver.chrome.service import Service\n",
    "from webdriver_manager.chrome import ChromeDriverManager\n",
    "# Pandas\n",
    "import pandas as pd\n",
    "# RegEx / Regular Expressions\n",
    "import re"
   ]
  },
  {
   "cell_type": "code",
   "execution_count": 2,
   "id": "c0264006",
   "metadata": {},
   "outputs": [],
   "source": [
    "rech = 'https://rech.com/busca?q='"
   ]
  },
  {
   "cell_type": "code",
   "execution_count": 3,
   "id": "2a40c76c",
   "metadata": {},
   "outputs": [],
   "source": [
    "def contains_number(string):\n",
    "    return any(char.isdigit() for char in string)"
   ]
  },
  {
   "cell_type": "code",
   "execution_count": 4,
   "id": "e646f3d7",
   "metadata": {},
   "outputs": [],
   "source": [
    "def findOEM(text):\n",
    "    print(text)\n",
    "    oem = []\n",
    "    if 'VV' in text:\n",
    "        indice = text.find('VV')\n",
    "        text = text.replace(text[indice:], '')\n",
    "    if 'MCL' in text:\n",
    "        cod_mcl = text.find('MCL')\n",
    "        copy_text = text\n",
    "        text = text[:cod_mcl]\n",
    "        cod_mcl = copy_text[cod_mcl:]\n",
    "        cod_mcl = cod_mcl.replace(' ', '')\n",
    "        if contains_number(cod_mcl):\n",
    "            if len(cod_mcl) > 5:\n",
    "                oem.append(cod_mcl)\n",
    "    if not contains_number(text):\n",
    "        return oem\n",
    "    num = re.search(r'\\d+', text)\n",
    "    indice = text.find(num.group())\n",
    "    lastspace = text.rfind(' ', 0, indice)\n",
    "    remover = [text[:lastspace], '.', '-']\n",
    "    for rm in remover:\n",
    "        text = text.replace(rm, '')\n",
    "    text = text.replace(' ', '/')\n",
    "    text = text.split('/')\n",
    "    for txt in text:\n",
    "        if contains_number(txt):\n",
    "            if len(txt) > 5:\n",
    "                if not contains_number(txt[-1]):\n",
    "                    txt = txt.replace(txt[-1], '')\n",
    "                oem.append(txt)\n",
    "    return oem"
   ]
  },
  {
   "cell_type": "code",
   "execution_count": 5,
   "id": "5ce55f64",
   "metadata": {},
   "outputs": [],
   "source": [
    "def rechSearch(nav, cod, index):\n",
    "    nav.get(str(rech + cod))\n",
    "    try:\n",
    "        elemento = nav.find_element(By.ID, 'showcase')\n",
    "        elementos = elemento.find_elements(By.CLASS_NAME, 'y-item-wrapper-showcase')\n",
    "        urls = []\n",
    "        for elemento in elementos:\n",
    "            url = elemento.find_element(By.TAG_NAME, 'link').get_attribute('href')\n",
    "            urls.append(url)\n",
    "            print(url)\n",
    "        for url in urls:\n",
    "            src = []\n",
    "            keys = []\n",
    "            values = []\n",
    "            nav.get(str(url))\n",
    "            nav.implicitly_wait(0.8)\n",
    "            elementos = nav.find_elements(By.CLASS_NAME, 'zoomImg')\n",
    "            for elemento in elementos:\n",
    "                src.append(elemento.get_attribute('src'))\n",
    "            nome = nav.find_element(By.CLASS_NAME, 'product__name').text\n",
    "            codigo = nav.find_element(By.CLASS_NAME, 'product__partcode').text\n",
    "            descricao = nav.find_element(By.CLASS_NAME, 'panel-description').text\n",
    "            elemento = nav.find_element(By.CLASS_NAME, 'table-specifications')\n",
    "            elementos = elemento.find_elements(By.CSS_SELECTOR, '.product .product-details table tr th')\n",
    "            for k in elementos:\n",
    "                keys.append(k.text)\n",
    "            elementos = elemento.find_elements(By.CSS_SELECTOR, '.product .product-details table tr td')\n",
    "            for v in elementos:\n",
    "                values.append(v.text)\n",
    "            dict_infos = dict(zip(keys, values))\n",
    "            for x in dict_infos.keys():\n",
    "                y = dict_infos.get(x)\n",
    "                y = y.replace('\\n', ', ')\n",
    "                dict_infos.update({x : y})\n",
    "            temp = dict_infos['Aplicação Equipamentos'].split(' (')\n",
    "            equips = []\n",
    "            for item in temp:\n",
    "                item = item.replace('1 ATÉ 999999999) -', '')\n",
    "                item = item.replace(', VER MAIS', '')\n",
    "                if item:\n",
    "                    item = item.strip()\n",
    "                    equips.append(item)\n",
    "            temp = dict_infos['Código da Montadora'].split(',')\n",
    "            cods = []\n",
    "            for item in temp:\n",
    "                cods.append(item.strip())\n",
    "            print(nome)\n",
    "            print(codigo)\n",
    "            print(descricao)\n",
    "            dict_infos.update({'Aplicação Equipamentos': equips})\n",
    "            dict_infos.update({'Código da Montadora': cods})\n",
    "            print(dict_infos)\n",
    "            \n",
    "    except Exception as e:\n",
    "        print(e)\n",
    "        pass"
   ]
  },
  {
   "cell_type": "code",
   "execution_count": 6,
   "id": "f2c78b06",
   "metadata": {},
   "outputs": [],
   "source": [
    "def loginRech(nav):\n",
    "    nav.get('https://www.rech.com/login?targetUri=%2F')\n",
    "    elemento = nav.find_element(By.ID, 'username')\n",
    "    elemento.send_keys('yuri@cotripal.com.br')\n",
    "    elemento = nav.find_element(By.ID, 'password')\n",
    "    elemento.send_keys('Testes1!')\n",
    "    elemento = nav.find_element(By.ID, 'submit')\n",
    "    elemento.click()\n",
    "    nav.implicitly_wait(0.8)"
   ]
  },
  {
   "cell_type": "code",
   "execution_count": 7,
   "id": "196c5bb5",
   "metadata": {},
   "outputs": [],
   "source": [
    "chrome_options = webdriver.ChromeOptions()\n",
    "servico = Service(ChromeDriverManager().install())\n",
    "#chrome_options.add_argument('headless')\n",
    "nav = webdriver.Chrome(options=chrome_options, service=servico)\n",
    "# produtos = dict(zip(query['ID'], query['Produto']))\n",
    "\n",
    "loginRech(nav)"
   ]
  },
  {
   "cell_type": "code",
   "execution_count": 8,
   "id": "95dedcd8",
   "metadata": {},
   "outputs": [
    {
     "name": "stdout",
     "output_type": "stream",
     "text": [
      "https://www.rech.com/p/7511797/suporte-do-molinete-plante-h175727133-unitario\n",
      "https://www.rech.com/p/7511798/suporte-do-molinete-plante-h175727001-unitario\n",
      "Suporte do Molinete - Plante+ - H175727/133 - Unitário\n",
      "Cód. H175727/133\n",
      "SUPORTE MOLINETE\n",
      "{'Marca': 'Plante+', 'Código do Produto': 'H175727/133', 'NCM': '84339090', 'Garantia': 'SEM GARANTIA ESTENDIDA', 'Código da Montadora': ['New Holland: 87041572', 'Case: 1347084C1', 'JOHN DEERE: H175727 H175727/G'], 'Aplicação Equipamentos': ['JOHN DEERE 1550CWS', 'JOHN DEERE 1550WTS', 'JOHN DEERE 600S', 'JOHN DEERE 614R', 'JOHN DEERE 625', 'JOHN DEERE 625D', 'JOHN DEERE 630', 'JOHN DEERE 630D', 'JOHN DEERE 630R', 'JOHN DEERE 635D', 'JOHN DEERE 635R', 'JOHN DEERE 640D', 'JOHN DEERE SÉRIE 300', 'JOHN DEERE SÉRIE 600', 'JOHN DEERE SÉRIE 600 - 616', 'JOHN DEERE SÉRIE 600 - 618', 'JOHN DEERE SÉRIE 600 - 620', 'JOHN DEERE SÉRIE 600 - 622', 'JOHN DEERE SÉRIE 600 - 635', 'JOHN DEERE SÉRIE 600 F', 'JOHN DEERE SÉRIE 600 R', 'JOHN DEERE SÉRIE 600FD - 630FD', 'JOHN DEERE SÉRIE 600FD - 635FD', 'JOHN DEERE SÉRIE 600FD - 640FD', 'JOHN DEERE SÉRIE 600R - 616R', 'JOHN DEERE SÉRIE 600R - 618R', 'JOHN DEERE SÉRIE 600R - 620R', 'JOHN DEERE SÉRIE 600R - 622R', 'JOHN DEERE SÉRIE 600R - 625R']}\n",
      "Suporte do Molinete - Plante+ - H175727/001 - Unitário\n",
      "Cód. H175727/001\n",
      "SUPORTE MOLINETE\n",
      "{'Marca': 'Plante+', 'Código do Produto': 'H175727/001', 'NCM': '84339090', 'Garantia': 'SEM GARANTIA ESTENDIDA', 'Código da Montadora': ['New Holland: 87041572', 'Case: 1347084C1', 'JOHN DEERE: H175727 H175727/G'], 'Aplicação Equipamentos': ['JOHN DEERE 1550CWS', 'JOHN DEERE 1550WTS', 'JOHN DEERE 600S', 'JOHN DEERE 614R', 'JOHN DEERE 625', 'JOHN DEERE 625D', 'JOHN DEERE 630', 'JOHN DEERE 630D', 'JOHN DEERE 630R', 'JOHN DEERE 635D', 'JOHN DEERE 635R', 'JOHN DEERE 640D', 'JOHN DEERE SÉRIE 300', 'JOHN DEERE SÉRIE 600', 'JOHN DEERE SÉRIE 600 - 616', 'JOHN DEERE SÉRIE 600 - 618', 'JOHN DEERE SÉRIE 600 - 620', 'JOHN DEERE SÉRIE 600 - 622', 'JOHN DEERE SÉRIE 600 - 635', 'JOHN DEERE SÉRIE 600 F', 'JOHN DEERE SÉRIE 600 R', 'JOHN DEERE SÉRIE 600FD - 630FD', 'JOHN DEERE SÉRIE 600FD - 635FD', 'JOHN DEERE SÉRIE 600FD - 640FD', 'JOHN DEERE SÉRIE 600R - 616R', 'JOHN DEERE SÉRIE 600R - 618R', 'JOHN DEERE SÉRIE 600R - 620R', 'JOHN DEERE SÉRIE 600R - 622R', 'JOHN DEERE SÉRIE 600R - 625R']}\n"
     ]
    }
   ],
   "source": [
    "rechSearch(nav, '87041572', 1)"
   ]
  }
 ],
 "metadata": {
  "kernelspec": {
   "display_name": "Python 3 (ipykernel)",
   "language": "python",
   "name": "python3"
  },
  "language_info": {
   "codemirror_mode": {
    "name": "ipython",
    "version": 3
   },
   "file_extension": ".py",
   "mimetype": "text/x-python",
   "name": "python",
   "nbconvert_exporter": "python",
   "pygments_lexer": "ipython3",
   "version": "3.9.13"
  }
 },
 "nbformat": 4,
 "nbformat_minor": 5
}
