{
 "cells": [
  {
   "cell_type": "code",
   "execution_count": 1,
   "id": "d65db46a",
   "metadata": {},
   "outputs": [],
   "source": [
    "# Selenium\n",
    "from selenium import webdriver\n",
    "from selenium.webdriver.common.keys import Keys\n",
    "from selenium.webdriver.common.by import By\n",
    "from selenium.webdriver.support.wait import WebDriverWait\n",
    "from selenium.webdriver.support import expected_conditions as EC\n",
    "#Resolvendo problema do chromeDrive\n",
    "from selenium.webdriver.chrome.service import Service\n",
    "from webdriver_manager.chrome import ChromeDriverManager\n",
    "# Pandas\n",
    "import pandas as pd\n",
    "# RegEx / Regular Expressions\n",
    "import re\n",
    "# Operating system\n",
    "import os"
   ]
  },
  {
   "cell_type": "code",
   "execution_count": 2,
   "id": "b52b3828",
   "metadata": {},
   "outputs": [],
   "source": [
    "vvProdutos = 'https://www.vv.com.br/pt/produto/detalhe/'\n",
    "codigosVV= []\n",
    "notFound = pd.DataFrame()\n",
    "notFound[\"Produto\"] = ''\n",
    "notFound['Motivo'] = ''\n",
    "cwd = os.getcwd()"
   ]
  },
  {
   "cell_type": "code",
   "execution_count": 3,
   "id": "406725da",
   "metadata": {},
   "outputs": [],
   "source": [
    "query = pd.read_csv('produtos_bot_yury_vv.txt', encoding = 'latin1', sep=',')\n",
    "df_query = pd.DataFrame(query)\n",
    "df_query.drop('IDX', axis=1, inplace=True)"
   ]
  },
  {
   "cell_type": "code",
   "execution_count": 4,
   "id": "e04a0e90",
   "metadata": {},
   "outputs": [],
   "source": [
    "def buscaInfo(nav, codigo, index):\n",
    "    if '-' not in codigo or '/' in codigo:\n",
    "        return\n",
    "    keys = []\n",
    "    values = []\n",
    "    nav.get(str(vvProdutos + codigo))\n",
    "    nav.implicitly_wait(0.8)\n",
    "    \n",
    "    element = nav.find_elements(By.CLASS_NAME, 'itensEquipamentos')\n",
    "    \n",
    "    if not element:\n",
    "        notFound.loc[len(notFound)] = [index, 'não encontrado no site']\n",
    "        return\n",
    "    \n",
    "    for elemento in element:\n",
    "        ps = elemento.find_elements(By.TAG_NAME, 'p')\n",
    "        p = []\n",
    "        for elemento in ps:\n",
    "            p.append(elemento.text)\n",
    "        equips = { str(index) : { p[0] : { 'Código OEM' : p[1], 'Equipamentos': p[2:] } } }\n",
    "    \n",
    "    keys.append('ID:')\n",
    "    values.append(index)\n",
    "    \n",
    "    element = nav.find_element(By.CLASS_NAME, 'subtitulo')\n",
    "    nome = element.find_element(By.TAG_NAME, 'h2').text\n",
    "    nome = nome.replace('–', '-')\n",
    "    \n",
    "    keys.append('Nome:')\n",
    "    values.append(nome)\n",
    "    \n",
    "    element = nav.find_element(By.CLASS_NAME, 'descricao')\n",
    "    li = element.find_elements(By.TAG_NAME, 'li')    \n",
    "    \n",
    "    for elemento in li:\n",
    "        for k in elemento.find_elements(By.TAG_NAME, 'h3'):\n",
    "            keys.append(k.text)\n",
    "        for v in elemento.find_elements(By.TAG_NAME, 'p'):\n",
    "            texto = v.text\n",
    "            texto = texto.replace('\"', '\\\\\"')\n",
    "            texto = texto.replace(\"'\", '\\\\\"')\n",
    "            values.append(texto)\n",
    "    dict_infos = dict(zip(keys, values))\n",
    "    element = nav.find_element(By.CLASS_NAME, 'listaGaleria')\n",
    "    imgs = element.find_elements(By.TAG_NAME, 'img')\n",
    "    src = []\n",
    "    for img in imgs:\n",
    "        src.append(img.get_attribute('src'))\n",
    "    images = {str(index) : src}    \n",
    "    dict_infos = str(dict_infos)\n",
    "    dict_infos = dict_infos.replace(\"'\", '\"')\n",
    "    images = str(images)\n",
    "    images = images.replace(\"'\", '\"')\n",
    "    equips = str(equips)\n",
    "    equips = equips.replace(\"'\", '\"')\n",
    "    with open(f'{cwd}/VV/infos.json', 'a') as teste:\n",
    "        teste.write(dict_infos)\n",
    "    with open(f'{cwd}/VV/images.json', 'a') as teste:\n",
    "        teste.write(images)\n",
    "    with open(f'{cwd}/VV/equips.json', 'a') as teste:\n",
    "        teste.write(equips)"
   ]
  },
  {
   "cell_type": "code",
   "execution_count": 5,
   "id": "f9a3c65d",
   "metadata": {},
   "outputs": [],
   "source": [
    "def findVVCod(nome):\n",
    "    indice = nome.find('VV')\n",
    "    nome = nome[indice:]\n",
    "    nome = nome.replace(' ', '')\n",
    "    nome = nome.split('/')\n",
    "    cods = []\n",
    "    for cod in nome:\n",
    "        cod = cod.replace('VV-', '')\n",
    "        cod = re.sub('[A-Z]', '', cod)\n",
    "        cods.append(cod)\n",
    "    return cods"
   ]
  },
  {
   "cell_type": "code",
   "execution_count": 6,
   "id": "5c7e806c",
   "metadata": {},
   "outputs": [],
   "source": [
    "chrome_options = webdriver.ChromeOptions()\n",
    "servico = Service(ChromeDriverManager().install())\n",
    "#chrome_options.add_argument('headless')\n",
    "nav = webdriver.Chrome(options=chrome_options, service=servico)"
   ]
  },
  {
   "cell_type": "code",
   "execution_count": 7,
   "id": "d861d9d1",
   "metadata": {},
   "outputs": [],
   "source": [
    "produtos = dict(zip(df_query['ET0100_PRODUTO'], df_query['ET0100_NOME']))\n",
    "for ID, cod in produtos.items():\n",
    "    cods = findVVCod(cod)\n",
    "    for item in cods:\n",
    "        if len(item) > 6:\n",
    "            try:\n",
    "                buscaInfo(nav, item, ID)\n",
    "            except Exception as e:\n",
    "                print(e)\n",
    "        else:\n",
    "            notFound.loc[len(notFound)] = [ID, 'Código sem sufixo']"
   ]
  },
  {
   "cell_type": "code",
   "execution_count": null,
   "id": "ff3e1440",
   "metadata": {
    "scrolled": true
   },
   "outputs": [],
   "source": [
    "# buscaInfo(nav, '0714-01', '101297095')"
   ]
  }
 ],
 "metadata": {
  "kernelspec": {
   "display_name": "Python 3 (ipykernel)",
   "language": "python",
   "name": "python3"
  },
  "language_info": {
   "codemirror_mode": {
    "name": "ipython",
    "version": 3
   },
   "file_extension": ".py",
   "mimetype": "text/x-python",
   "name": "python",
   "nbconvert_exporter": "python",
   "pygments_lexer": "ipython3",
   "version": "3.9.13"
  }
 },
 "nbformat": 4,
 "nbformat_minor": 5
}
