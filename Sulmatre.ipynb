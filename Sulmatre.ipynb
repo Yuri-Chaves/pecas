{
 "cells": [
  {
   "cell_type": "code",
   "execution_count": 1,
   "id": "ee9267f1",
   "metadata": {},
   "outputs": [],
   "source": [
    "# Selenium\n",
    "from selenium import webdriver\n",
    "from selenium.webdriver.common.keys import Keys\n",
    "from selenium.webdriver.common.by import By\n",
    "from selenium.webdriver.support.wait import WebDriverWait\n",
    "from selenium.webdriver.support import expected_conditions as EC\n",
    "#Resolvendo problema do chromeDrive\n",
    "from selenium.webdriver.chrome.service import Service\n",
    "from webdriver_manager.chrome import ChromeDriverManager\n",
    "# Pandas\n",
    "import pandas as pd\n",
    "# RegEx / Regular Expressions\n",
    "import re\n",
    "# Operating system\n",
    "import os\n",
    "import time"
   ]
  },
  {
   "cell_type": "code",
   "execution_count": 2,
   "id": "5302796d",
   "metadata": {},
   "outputs": [],
   "source": [
    "sulmatre = 'https://sulmatre.com.br/produtos/'\n",
    "notFound = pd.DataFrame()\n",
    "notFound[\"Produto\"] = ''\n",
    "notFound['Motivo'] = ''\n",
    "cwd = os.getcwd()"
   ]
  },
  {
   "cell_type": "code",
   "execution_count": 3,
   "id": "c54b8228",
   "metadata": {},
   "outputs": [],
   "source": [
    "query = pd.read_csv('produtos_bot_yury_not_vv.txt', encoding = 'latin1', sep=',')\n",
    "df_query = pd.DataFrame(query)\n",
    "df_query.drop('IDX', axis=1, inplace=True)"
   ]
  },
  {
   "cell_type": "code",
   "execution_count": 4,
   "id": "1e62a5c0",
   "metadata": {},
   "outputs": [],
   "source": [
    "def contains_number(string):\n",
    "    return any(char.isdigit() for char in string)"
   ]
  },
  {
   "cell_type": "code",
   "execution_count": 5,
   "id": "7dca8602",
   "metadata": {},
   "outputs": [],
   "source": [
    "def findOEM(text):\n",
    "    oem = []\n",
    "    if 'VV' in text:\n",
    "        indice = text.find('VV')\n",
    "        text = text.replace(text[indice:], '')\n",
    "    if 'MCL' in text:\n",
    "        cod_mcl = text.find('MCL')\n",
    "        copy_text = text\n",
    "        text = text[:cod_mcl]\n",
    "        cod_mcl = copy_text[cod_mcl:]\n",
    "        cod_mcl = cod_mcl.replace(' ', '')\n",
    "        if contains_number(cod_mcl):\n",
    "            if len(cod_mcl) > 5:\n",
    "                oem.append(cod_mcl)\n",
    "    if not contains_number(text):\n",
    "        return oem\n",
    "    num = re.search(r'\\d+', text)\n",
    "    indice = text.find(num.group())\n",
    "    lastspace = text.rfind(' ', 0, indice)\n",
    "    remover = [text[:lastspace], '.', '-']\n",
    "    for rm in remover:\n",
    "        text = text.replace(rm, '')\n",
    "    text = text.replace(' ', '/')\n",
    "    text = text.split('/')\n",
    "    for txt in text:\n",
    "        if contains_number(txt):\n",
    "            if len(txt) >= 5:\n",
    "                if not contains_number(txt[-1]):\n",
    "                    txt = txt.replace(txt[-1], '')\n",
    "                oem.append(txt)\n",
    "    return oem"
   ]
  },
  {
   "cell_type": "code",
   "execution_count": 6,
   "id": "e3559b91",
   "metadata": {},
   "outputs": [],
   "source": [
    "def sulmatreSearch(nav, cod, index):\n",
    "    nav.get(sulmatre)\n",
    "    elemento = nav.find_element(By.XPATH, '//*[@id=\"page\"]/div[1]/div/section[1]/div/div/div/div/div/div/div/div/div/form/div/div')\n",
    "    elemento = elemento.find_element(By.TAG_NAME, 'input')\n",
    "    elemento.send_keys(cod)\n",
    "    elemento.send_keys(Keys.ENTER)\n",
    "    try:\n",
    "        nome = nav.find_element(By.CLASS_NAME, 'product_title').text\n",
    "        nome = nome.replace('|', '-')\n",
    "        elementos = nav.find_elements(By.CLASS_NAME, 'woocommerce-product-gallery__image')\n",
    "        src = []\n",
    "        for elemento in elementos:\n",
    "            img = elemento.find_element(By.TAG_NAME, 'img').get_attribute('src')\n",
    "            src.append(img)\n",
    "        keys = []\n",
    "        values = []\n",
    "        keys.append('Nome: ')\n",
    "        values.append(nome)\n",
    "        elementos = nav.find_elements(By.CLASS_NAME, 'woocommerce-product-attributes-item')\n",
    "        for elemento in elementos:\n",
    "            keys.append(elemento.find_element(By.CLASS_NAME, 'woocommerce-product-attributes-item__label').text)\n",
    "            value = elemento.find_element(By.CLASS_NAME, 'woocommerce-product-attributes-item__value')\n",
    "            values.append(value.find_element(By.TAG_NAME, 'p').text)\n",
    "        keys.append('Imagens: ')\n",
    "        values.append(src)\n",
    "        dict_infos = dict(zip(keys, values))\n",
    "        dict_infos = str(dict_infos)\n",
    "        dict_infos = dict_infos.replace(\"'\", '\"')\n",
    "        with open(f'{cwd}/Sulmatre/prods.json', 'a') as teste:\n",
    "            teste.write(dict_infos)\n",
    "    except Exception as e:\n",
    "        notFound.loc[len(notFound)] = [index, 'Não encontrado no site']\n",
    "        return\n",
    "        pass"
   ]
  },
  {
   "cell_type": "code",
   "execution_count": 7,
   "id": "5bd7d9c7",
   "metadata": {},
   "outputs": [],
   "source": [
    "chrome_options = webdriver.ChromeOptions()\n",
    "servico = Service(ChromeDriverManager().install())\n",
    "#chrome_options.add_argument('headless')\n",
    "nav = webdriver.Chrome(options=chrome_options, service=servico)"
   ]
  },
  {
   "cell_type": "code",
   "execution_count": 8,
   "id": "50e75889",
   "metadata": {},
   "outputs": [],
   "source": [
    "produtos = dict(zip(df_query['ET0100_PRODUTO'], df_query['ET0100_NOME']))\n",
    "for ID, cod in produtos.items():\n",
    "    cods = findOEM(cod)\n",
    "    for item in cods:\n",
    "        sulmatreSearch(nav, item, ID)"
   ]
  },
  {
   "cell_type": "code",
   "execution_count": 9,
   "id": "12e18de2",
   "metadata": {},
   "outputs": [],
   "source": [
    "# sulmatreSearch(nav, '87617623', '1')"
   ]
  },
  {
   "cell_type": "code",
   "execution_count": 10,
   "id": "c1c7aa76",
   "metadata": {},
   "outputs": [],
   "source": [
    "notFound = notFound.drop_duplicates()\n",
    "notFound.to_excel(f'{cwd}/Sulmatre/notFound.xlsx')"
   ]
  }
 ],
 "metadata": {
  "kernelspec": {
   "display_name": "Python 3 (ipykernel)",
   "language": "python",
   "name": "python3"
  },
  "language_info": {
   "codemirror_mode": {
    "name": "ipython",
    "version": 3
   },
   "file_extension": ".py",
   "mimetype": "text/x-python",
   "name": "python",
   "nbconvert_exporter": "python",
   "pygments_lexer": "ipython3",
   "version": "3.9.13"
  }
 },
 "nbformat": 4,
 "nbformat_minor": 5
}
