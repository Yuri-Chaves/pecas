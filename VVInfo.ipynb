{
 "cells": [
  {
   "cell_type": "code",
   "execution_count": null,
   "id": "d65db46a",
   "metadata": {},
   "outputs": [],
   "source": [
    "# Selenium\n",
    "from selenium import webdriver\n",
    "from selenium.webdriver.common.keys import Keys\n",
    "from selenium.webdriver.common.by import By\n",
    "from selenium.webdriver.support.wait import WebDriverWait\n",
    "from selenium.webdriver.support import expected_conditions as EC\n",
    "#Resolvendo problema do chromeDrive\n",
    "from selenium.webdriver.chrome.service import Service\n",
    "from webdriver_manager.chrome import ChromeDriverManager\n",
    "# Pandas\n",
    "import pandas as pd\n",
    "# RegEx / Regular Expressions\n",
    "import re"
   ]
  },
  {
   "cell_type": "code",
   "execution_count": null,
   "id": "b52b3828",
   "metadata": {},
   "outputs": [],
   "source": [
    "testes = [\"DEDO CARACOL 1123.464.100.00-VV-0653-01\", \"DEDO CARACOL 132.0699C1 440.430A1VV-3379\", \"DEDO CARACOL 3.099.689 VV-0444-00\", \"DEDO CARACOL 334.972 - VV-0183-01\", \"DEDO CARACOL 849.80892 - VV-0252-01\", \"DEDO CARACOL 849.96278 - VV-0278-01\", \"DEDO CARACOL 849.96279 - VV-0279-01\", \"DEDO CARACOL H-102.724-VV-0644-01\", \"DEDO CARACOL H-169.914 - VV-0214-01\", \"DEDO DUPLO 065.327-VV-0016-02\", \"DEDO DUPLO 1.307.299.C2 - VV-0060-00\", \"DEDO DUPLO 3.318.953/379.720 VV-0003-01\", \"DEDO DUPLO 466.789-VV-0661\", \"DEDO DUPLO 466.845-VV-0662\", \"DEDO DUPLO 475.06883 / VV-4057-00\", \"ANEL SEGURANCA 331.160 ORIG\" ]\n",
    "\n",
    "vvProdutos = 'https://www.vv.com.br/pt/produto/detalhe/'\n",
    "codigosVV= []"
   ]
  },
  {
   "cell_type": "code",
   "execution_count": null,
   "id": "406725da",
   "metadata": {},
   "outputs": [],
   "source": [
    "query = pd.read_excel('vv.xlsx')\n",
    "display(query)"
   ]
  },
  {
   "cell_type": "code",
   "execution_count": null,
   "id": "d861d9d1",
   "metadata": {},
   "outputs": [],
   "source": []
  },
  {
   "cell_type": "code",
   "execution_count": null,
   "id": "e04a0e90",
   "metadata": {},
   "outputs": [],
   "source": [
    "def buscaInfo(nav, codigo, index):\n",
    "    if '-' not in codigo or '/' in codigo:\n",
    "        return\n",
    "    keys = []\n",
    "    values = []\n",
    "    nav.get(str(vvProdutos + codigo))\n",
    "    nav.implicitly_wait(0.8)\n",
    "    \n",
    "    element = nav.find_elements(By.CLASS_NAME, 'itensEquipamentos')\n",
    "    \n",
    "    if not element:\n",
    "        return\n",
    "    \n",
    "    for elemento in element:\n",
    "        ps = elemento.find_elements(By.TAG_NAME, 'p')\n",
    "        p = []\n",
    "        for elemento in ps:\n",
    "            p.append(elemento.text)\n",
    "        equips = { index : { p[0] : { 'Código OEM' : p[1], 'Equipamentos': p[2:] } } }\n",
    "    \n",
    "    keys.append('ID:')\n",
    "    values.append(index)\n",
    "    \n",
    "    element = nav.find_element(By.CLASS_NAME, 'subtitulo')\n",
    "    nome = element.find_element(By.TAG_NAME, 'h2')\n",
    "    \n",
    "    keys.append('Nome:')\n",
    "    values.append(nome.text)\n",
    "    \n",
    "    element = nav.find_element(By.CLASS_NAME, 'descricao')\n",
    "    li = element.find_elements(By.TAG_NAME, 'li')    \n",
    "    \n",
    "    for elemento in li:\n",
    "        for k in elemento.find_elements(By.TAG_NAME, 'h3'):\n",
    "            keys.append(k.text)\n",
    "        for v in elemento.find_elements(By.TAG_NAME, 'p'):\n",
    "            values.append(v.text)\n",
    "    dict_infos = dict(zip(keys, values))\n",
    "    print(dict_infos)\n",
    "    print(' ')\n",
    "    \n",
    "    element = nav.find_element(By.CLASS_NAME, 'listaGaleria')\n",
    "    imgs = element.find_elements(By.TAG_NAME, 'img')\n",
    "    src = []\n",
    "    for img in imgs:\n",
    "        src.append(img.get_attribute('src'))\n",
    "    images = {index : src}\n",
    "    \n",
    "    print(images)\n",
    "    \n",
    "    print(100*'*')\n",
    "    print(equips)\n",
    "        "
   ]
  },
  {
   "cell_type": "code",
   "execution_count": null,
   "id": "5c7e806c",
   "metadata": {},
   "outputs": [],
   "source": [
    "chrome_options = webdriver.ChromeOptions()\n",
    "servico = Service(ChromeDriverManager().install())\n",
    "#chrome_options.add_argument('headless')\n",
    "nav = webdriver.Chrome(options=chrome_options, service=servico)\n",
    "produtos = dict(zip(query['ID'], query['Produto']))\n",
    "for chav, cod in produtos.items():\n",
    "    i = cod.find('VV')\n",
    "    produto = cod[i:]\n",
    "    produto = produto.replace(\" \", \"\")\n",
    "    produto = produto.replace(\"VV-\", \"\")\n",
    "    produtos.update({chav:produto})\n",
    "for index, codigo in produtos.items():\n",
    "    try:\n",
    "        buscaInfo(nav, codigo, index)\n",
    "    except:\n",
    "        pass\n",
    "    print(125*'#')\n",
    "    \n",
    "    \n",
    "    \n",
    "    \n",
    "# dict_test = dict(zip(keys, values))"
   ]
  },
  {
   "cell_type": "code",
   "execution_count": null,
   "id": "fc2d516e",
   "metadata": {},
   "outputs": [],
   "source": [
    "print(len(src))"
   ]
  },
  {
   "cell_type": "code",
   "execution_count": null,
   "id": "f9a3c65d",
   "metadata": {},
   "outputs": [],
   "source": [
    "for teste in testes:\n",
    "    print(teste)\n",
    "    indice = teste.find('VV')\n",
    "    remover = teste[indice:]\n",
    "    teste = teste.replace(remover, \"\")\n",
    "    num = re.search(r'\\d+', teste)\n",
    "    indice = teste.find(num.group())\n",
    "    remover = teste[:indice]\n",
    "    teste = teste.replace(remover, \"\")\n",
    "    teste = teste.replace('.', \"\")\n",
    "    teste = teste.replace('-', \"\")\n",
    "    teste = teste.replace(' ', \"/\")\n",
    "    teste = teste.split('/')    \n",
    "#     teste = re.sub('[^0-9]', '', teste)\n",
    "    print(teste)\n",
    "    for t in teste:\n",
    "        if t != '':\n",
    "            print(t)"
   ]
  },
  {
   "cell_type": "code",
   "execution_count": null,
   "id": "abdb9194",
   "metadata": {},
   "outputs": [],
   "source": [
    "def contains_number(string):\n",
    "    return any(char.isdigit() for char in string)"
   ]
  },
  {
   "cell_type": "code",
   "execution_count": null,
   "id": "db67f7be",
   "metadata": {},
   "outputs": [],
   "source": [
    "def findOEM(text):\n",
    "    if 'VV' in text:\n",
    "        indice = text.find('VV')\n",
    "        remover = text[indice:]\n",
    "        text = text.replace(remover, \"\")\n",
    "    num = re.search(r'\\d+', text)\n",
    "    indice = text.find(num.group())\n",
    "    remover = [text[:indice], '.', '-']\n",
    "    for rm in remover:\n",
    "        text = text.replace(rm, \"\")\n",
    "    text = text.replace(' ', \"/\")\n",
    "    text = text.split('/')\n",
    "    lista = []\n",
    "    for txt in text:\n",
    "        if txt:\n",
    "            lista.append(txt)\n",
    "    for item in lista:\n",
    "        if not contains_number(item):\n",
    "            lista.remove(item)\n",
    "    print(lista)"
   ]
  },
  {
   "cell_type": "code",
   "execution_count": null,
   "id": "fdfe3567",
   "metadata": {},
   "outputs": [],
   "source": [
    "settest = 'MOLA 3.099.370 VV-0947'\n",
    "for teste in testes:\n",
    "    findOEM(teste)"
   ]
  },
  {
   "cell_type": "code",
   "execution_count": null,
   "id": "1f892c01",
   "metadata": {},
   "outputs": [],
   "source": [
    "findOEM('APOIO ORIGINAL 821.168 - 370.950')"
   ]
  },
  {
   "cell_type": "code",
   "execution_count": null,
   "id": "e654a882",
   "metadata": {},
   "outputs": [],
   "source": [
    "findOEM('ANEL VEDANTE 474.65268 ORIG')"
   ]
  }
 ],
 "metadata": {
  "kernelspec": {
   "display_name": "Python 3 (ipykernel)",
   "language": "python",
   "name": "python3"
  },
  "language_info": {
   "codemirror_mode": {
    "name": "ipython",
    "version": 3
   },
   "file_extension": ".py",
   "mimetype": "text/x-python",
   "name": "python",
   "nbconvert_exporter": "python",
   "pygments_lexer": "ipython3",
   "version": "3.9.13"
  }
 },
 "nbformat": 4,
 "nbformat_minor": 5
}
